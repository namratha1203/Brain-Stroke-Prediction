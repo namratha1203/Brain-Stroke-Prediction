{
 "cells": [
  {
   "cell_type": "markdown",
   "id": "348b0353",
   "metadata": {
    "jp-MarkdownHeadingCollapsed": true,
    "papermill": {
     "duration": 0.025455,
     "end_time": "2023-11-25T14:29:45.858514",
     "exception": false,
     "start_time": "2023-11-25T14:29:45.833059",
     "status": "completed"
    },
    "tags": []
   },
   "source": [
    "### Importing Libraries"
   ]
  },
  {
   "cell_type": "code",
   "execution_count": 1,
   "id": "1de0bc5c",
   "metadata": {
    "execution": {
     "iopub.execute_input": "2023-11-25T14:29:45.911442Z",
     "iopub.status.busy": "2023-11-25T14:29:45.910811Z",
     "iopub.status.idle": "2023-11-25T14:29:48.842476Z",
     "shell.execute_reply": "2023-11-25T14:29:48.841341Z"
    },
    "papermill": {
     "duration": 2.961894,
     "end_time": "2023-11-25T14:29:48.845626",
     "exception": false,
     "start_time": "2023-11-25T14:29:45.883732",
     "status": "completed"
    },
    "tags": []
   },
   "outputs": [],
   "source": [
    "import pandas as pd #for dataframe\n",
    "import numpy as np #for numerical calculations\n",
    "import seaborn as sns #for visualisation purposes\n",
    "import matplotlib.pyplot as plt #is a 2D plotting library for Python.\n",
    "import warnings #allows you to control the behavior of warnings in your code.\n",
    "from datetime import datetime #used for manipulating dates and times.\n",
    "\n",
    "################### Sklearn ####################################\n",
    "from sklearn.preprocessing import MinMaxScaler #or scaling numerical features to a specified range, typically between 0 and 1.\n",
    "from sklearn.model_selection import train_test_split, GridSearchCV #is used to split datasets into training and testing sets, \n",
    "from sklearn.ensemble import RandomForestClassifier #Random Forest is an ensemble learning method for classification.\n",
    "from sklearn import metrics #includes functions for evaluating the performance of machine learning models\n",
    "from sklearn.linear_model import LogisticRegression #which is used for logistic regression.\n",
    "from sklearn.svm import SVC \n",
    "from sklearn.tree import DecisionTreeClassifier #which is used for decision tree-based classification.\n",
    "from sklearn.neighbors import KNeighborsClassifier #which is used for k-nearest neighbors classification."
   ]
  },
  {
   "cell_type": "markdown",
   "id": "d0650962",
   "metadata": {
    "jp-MarkdownHeadingCollapsed": true,
    "papermill": {
     "duration": 0.025469,
     "end_time": "2023-11-25T14:29:48.961032",
     "exception": false,
     "start_time": "2023-11-25T14:29:48.935563",
     "status": "completed"
    },
    "tags": []
   },
   "source": [
    "### Library configurations"
   ]
  },
  {
   "cell_type": "code",
   "execution_count": 2,
   "id": "77e05374",
   "metadata": {
    "execution": {
     "iopub.execute_input": "2023-11-25T14:29:49.018394Z",
     "iopub.status.busy": "2023-11-25T14:29:49.017734Z",
     "iopub.status.idle": "2023-11-25T14:29:49.025502Z",
     "shell.execute_reply": "2023-11-25T14:29:49.024114Z"
    },
    "papermill": {
     "duration": 0.040776,
     "end_time": "2023-11-25T14:29:49.028397",
     "exception": false,
     "start_time": "2023-11-25T14:29:48.987621",
     "status": "completed"
    },
    "tags": []
   },
   "outputs": [],
   "source": [
    "pd.options.mode.copy_on_write = True # Allow re-write on variable\n",
    "sns.set_style('darkgrid') # Seaborn style\n",
    "warnings.filterwarnings('ignore') # Ignore warnings\n",
    "pd.set_option('display.max_columns', None) # Setting this option will print all collumns of a dataframe\n",
    "pd.set_option('display.max_colwidth', None) # Setting this option will print all of the data in a feature"
   ]
  },
  {
   "cell_type": "markdown",
   "id": "7165d360",
   "metadata": {
    "jp-MarkdownHeadingCollapsed": true,
    "papermill": {
     "duration": 0.030699,
     "end_time": "2023-11-25T14:29:49.143067",
     "exception": false,
     "start_time": "2023-11-25T14:29:49.112368",
     "status": "completed"
    },
    "tags": []
   },
   "source": [
    "### Collecting Data"
   ]
  },
  {
   "cell_type": "markdown",
   "id": "915c0fb1",
   "metadata": {
    "papermill": {
     "duration": 0.025553,
     "end_time": "2023-11-25T14:29:49.195576",
     "exception": false,
     "start_time": "2023-11-25T14:29:49.170023",
     "status": "completed"
    },
    "tags": []
   },
   "source": [
    "- At first, import dataset in csv format by pandas library and read_csv method."
   ]
  },
  {
   "cell_type": "code",
   "execution_count": 3,
   "id": "b1a9d228",
   "metadata": {
    "execution": {
     "iopub.execute_input": "2023-11-25T14:29:49.250096Z",
     "iopub.status.busy": "2023-11-25T14:29:49.249642Z",
     "iopub.status.idle": "2023-11-25T14:29:49.324898Z",
     "shell.execute_reply": "2023-11-25T14:29:49.323666Z"
    },
    "papermill": {
     "duration": 0.105605,
     "end_time": "2023-11-25T14:29:49.327738",
     "exception": false,
     "start_time": "2023-11-25T14:29:49.222133",
     "status": "completed"
    },
    "tags": []
   },
   "outputs": [
    {
     "data": {
      "text/html": [
       "<div>\n",
       "<style scoped>\n",
       "    .dataframe tbody tr th:only-of-type {\n",
       "        vertical-align: middle;\n",
       "    }\n",
       "\n",
       "    .dataframe tbody tr th {\n",
       "        vertical-align: top;\n",
       "    }\n",
       "\n",
       "    .dataframe thead th {\n",
       "        text-align: right;\n",
       "    }\n",
       "</style>\n",
       "<table border=\"1\" class=\"dataframe\">\n",
       "  <thead>\n",
       "    <tr style=\"text-align: right;\">\n",
       "      <th></th>\n",
       "      <th>id</th>\n",
       "      <th>gender</th>\n",
       "      <th>age</th>\n",
       "      <th>hypertension</th>\n",
       "      <th>heart_disease</th>\n",
       "      <th>ever_married</th>\n",
       "      <th>work_type</th>\n",
       "      <th>Residence_type</th>\n",
       "      <th>avg_glucose_level</th>\n",
       "      <th>bmi</th>\n",
       "      <th>smoking_status</th>\n",
       "      <th>stroke</th>\n",
       "    </tr>\n",
       "  </thead>\n",
       "  <tbody>\n",
       "    <tr>\n",
       "      <th>0</th>\n",
       "      <td>9046</td>\n",
       "      <td>Male</td>\n",
       "      <td>67.0</td>\n",
       "      <td>0</td>\n",
       "      <td>1</td>\n",
       "      <td>Yes</td>\n",
       "      <td>Private</td>\n",
       "      <td>Urban</td>\n",
       "      <td>228.69</td>\n",
       "      <td>36.6</td>\n",
       "      <td>formerly smoked</td>\n",
       "      <td>1</td>\n",
       "    </tr>\n",
       "    <tr>\n",
       "      <th>1</th>\n",
       "      <td>51676</td>\n",
       "      <td>Female</td>\n",
       "      <td>61.0</td>\n",
       "      <td>0</td>\n",
       "      <td>0</td>\n",
       "      <td>Yes</td>\n",
       "      <td>Self-employed</td>\n",
       "      <td>Rural</td>\n",
       "      <td>202.21</td>\n",
       "      <td>NaN</td>\n",
       "      <td>never smoked</td>\n",
       "      <td>1</td>\n",
       "    </tr>\n",
       "    <tr>\n",
       "      <th>2</th>\n",
       "      <td>31112</td>\n",
       "      <td>Male</td>\n",
       "      <td>80.0</td>\n",
       "      <td>0</td>\n",
       "      <td>1</td>\n",
       "      <td>Yes</td>\n",
       "      <td>Private</td>\n",
       "      <td>Rural</td>\n",
       "      <td>105.92</td>\n",
       "      <td>32.5</td>\n",
       "      <td>never smoked</td>\n",
       "      <td>1</td>\n",
       "    </tr>\n",
       "    <tr>\n",
       "      <th>3</th>\n",
       "      <td>60182</td>\n",
       "      <td>Female</td>\n",
       "      <td>49.0</td>\n",
       "      <td>0</td>\n",
       "      <td>0</td>\n",
       "      <td>Yes</td>\n",
       "      <td>Private</td>\n",
       "      <td>Urban</td>\n",
       "      <td>171.23</td>\n",
       "      <td>34.4</td>\n",
       "      <td>smokes</td>\n",
       "      <td>1</td>\n",
       "    </tr>\n",
       "    <tr>\n",
       "      <th>4</th>\n",
       "      <td>1665</td>\n",
       "      <td>Female</td>\n",
       "      <td>79.0</td>\n",
       "      <td>1</td>\n",
       "      <td>0</td>\n",
       "      <td>Yes</td>\n",
       "      <td>Self-employed</td>\n",
       "      <td>Rural</td>\n",
       "      <td>174.12</td>\n",
       "      <td>24.0</td>\n",
       "      <td>never smoked</td>\n",
       "      <td>1</td>\n",
       "    </tr>\n",
       "  </tbody>\n",
       "</table>\n",
       "</div>"
      ],
      "text/plain": [
       "      id  gender   age  hypertension  heart_disease ever_married  \\\n",
       "0   9046    Male  67.0             0              1          Yes   \n",
       "1  51676  Female  61.0             0              0          Yes   \n",
       "2  31112    Male  80.0             0              1          Yes   \n",
       "3  60182  Female  49.0             0              0          Yes   \n",
       "4   1665  Female  79.0             1              0          Yes   \n",
       "\n",
       "       work_type Residence_type  avg_glucose_level   bmi   smoking_status  \\\n",
       "0        Private          Urban             228.69  36.6  formerly smoked   \n",
       "1  Self-employed          Rural             202.21   NaN     never smoked   \n",
       "2        Private          Rural             105.92  32.5     never smoked   \n",
       "3        Private          Urban             171.23  34.4           smokes   \n",
       "4  Self-employed          Rural             174.12  24.0     never smoked   \n",
       "\n",
       "   stroke  \n",
       "0       1  \n",
       "1       1  \n",
       "2       1  \n",
       "3       1  \n",
       "4       1  "
      ]
     },
     "execution_count": 3,
     "metadata": {},
     "output_type": "execute_result"
    }
   ],
   "source": [
    "data = pd.read_csv('healthcare-dataset-stroke-data.csv')\n",
    "data.head()"
   ]
  },
  {
   "cell_type": "markdown",
   "id": "cb781f29",
   "metadata": {
    "jp-MarkdownHeadingCollapsed": true,
    "papermill": {
     "duration": 0.025593,
     "end_time": "2023-11-25T14:29:49.380095",
     "exception": false,
     "start_time": "2023-11-25T14:29:49.354502",
     "status": "completed"
    },
    "tags": []
   },
   "source": [
    "### Data Informations\n",
    "- We drop id columns, because its a unique identifier number."
   ]
  },
  {
   "cell_type": "code",
   "execution_count": 4,
   "id": "abde5338",
   "metadata": {
    "execution": {
     "iopub.execute_input": "2023-11-25T14:29:49.487162Z",
     "iopub.status.busy": "2023-11-25T14:29:49.486734Z",
     "iopub.status.idle": "2023-11-25T14:29:49.502465Z",
     "shell.execute_reply": "2023-11-25T14:29:49.501228Z"
    },
    "papermill": {
     "duration": 0.046656,
     "end_time": "2023-11-25T14:29:49.505521",
     "exception": false,
     "start_time": "2023-11-25T14:29:49.458865",
     "status": "completed"
    },
    "tags": []
   },
   "outputs": [],
   "source": [
    "# Drop column = 'id'\n",
    "#Here we are as it doesnot contribute meaningful information to the analysis.\n",
    "#It is redundant and can  be removed from the dataset.\n",
    "#Reduces the dimentionality of the dataset.\n",
    "data.drop(columns='id', inplace=True)"
   ]
  },
  {
   "cell_type": "code",
   "execution_count": 5,
   "id": "d8fc0c33",
   "metadata": {
    "scrolled": true
   },
   "outputs": [
    {
     "data": {
      "text/html": [
       "<div>\n",
       "<style scoped>\n",
       "    .dataframe tbody tr th:only-of-type {\n",
       "        vertical-align: middle;\n",
       "    }\n",
       "\n",
       "    .dataframe tbody tr th {\n",
       "        vertical-align: top;\n",
       "    }\n",
       "\n",
       "    .dataframe thead th {\n",
       "        text-align: right;\n",
       "    }\n",
       "</style>\n",
       "<table border=\"1\" class=\"dataframe\">\n",
       "  <thead>\n",
       "    <tr style=\"text-align: right;\">\n",
       "      <th></th>\n",
       "      <th>gender</th>\n",
       "      <th>age</th>\n",
       "      <th>hypertension</th>\n",
       "      <th>heart_disease</th>\n",
       "      <th>ever_married</th>\n",
       "      <th>work_type</th>\n",
       "      <th>Residence_type</th>\n",
       "      <th>avg_glucose_level</th>\n",
       "      <th>bmi</th>\n",
       "      <th>smoking_status</th>\n",
       "      <th>stroke</th>\n",
       "    </tr>\n",
       "  </thead>\n",
       "  <tbody>\n",
       "    <tr>\n",
       "      <th>0</th>\n",
       "      <td>Male</td>\n",
       "      <td>67.0</td>\n",
       "      <td>0</td>\n",
       "      <td>1</td>\n",
       "      <td>Yes</td>\n",
       "      <td>Private</td>\n",
       "      <td>Urban</td>\n",
       "      <td>228.69</td>\n",
       "      <td>36.6</td>\n",
       "      <td>formerly smoked</td>\n",
       "      <td>1</td>\n",
       "    </tr>\n",
       "    <tr>\n",
       "      <th>1</th>\n",
       "      <td>Female</td>\n",
       "      <td>61.0</td>\n",
       "      <td>0</td>\n",
       "      <td>0</td>\n",
       "      <td>Yes</td>\n",
       "      <td>Self-employed</td>\n",
       "      <td>Rural</td>\n",
       "      <td>202.21</td>\n",
       "      <td>NaN</td>\n",
       "      <td>never smoked</td>\n",
       "      <td>1</td>\n",
       "    </tr>\n",
       "    <tr>\n",
       "      <th>2</th>\n",
       "      <td>Male</td>\n",
       "      <td>80.0</td>\n",
       "      <td>0</td>\n",
       "      <td>1</td>\n",
       "      <td>Yes</td>\n",
       "      <td>Private</td>\n",
       "      <td>Rural</td>\n",
       "      <td>105.92</td>\n",
       "      <td>32.5</td>\n",
       "      <td>never smoked</td>\n",
       "      <td>1</td>\n",
       "    </tr>\n",
       "    <tr>\n",
       "      <th>3</th>\n",
       "      <td>Female</td>\n",
       "      <td>49.0</td>\n",
       "      <td>0</td>\n",
       "      <td>0</td>\n",
       "      <td>Yes</td>\n",
       "      <td>Private</td>\n",
       "      <td>Urban</td>\n",
       "      <td>171.23</td>\n",
       "      <td>34.4</td>\n",
       "      <td>smokes</td>\n",
       "      <td>1</td>\n",
       "    </tr>\n",
       "    <tr>\n",
       "      <th>4</th>\n",
       "      <td>Female</td>\n",
       "      <td>79.0</td>\n",
       "      <td>1</td>\n",
       "      <td>0</td>\n",
       "      <td>Yes</td>\n",
       "      <td>Self-employed</td>\n",
       "      <td>Rural</td>\n",
       "      <td>174.12</td>\n",
       "      <td>24.0</td>\n",
       "      <td>never smoked</td>\n",
       "      <td>1</td>\n",
       "    </tr>\n",
       "  </tbody>\n",
       "</table>\n",
       "</div>"
      ],
      "text/plain": [
       "   gender   age  hypertension  heart_disease ever_married      work_type  \\\n",
       "0    Male  67.0             0              1          Yes        Private   \n",
       "1  Female  61.0             0              0          Yes  Self-employed   \n",
       "2    Male  80.0             0              1          Yes        Private   \n",
       "3  Female  49.0             0              0          Yes        Private   \n",
       "4  Female  79.0             1              0          Yes  Self-employed   \n",
       "\n",
       "  Residence_type  avg_glucose_level   bmi   smoking_status  stroke  \n",
       "0          Urban             228.69  36.6  formerly smoked       1  \n",
       "1          Rural             202.21   NaN     never smoked       1  \n",
       "2          Rural             105.92  32.5     never smoked       1  \n",
       "3          Urban             171.23  34.4           smokes       1  \n",
       "4          Rural             174.12  24.0     never smoked       1  "
      ]
     },
     "execution_count": 5,
     "metadata": {},
     "output_type": "execute_result"
    }
   ],
   "source": [
    "data.head()"
   ]
  },
  {
   "cell_type": "code",
   "execution_count": 6,
   "id": "f5f76598",
   "metadata": {
    "execution": {
     "iopub.execute_input": "2023-11-25T14:29:49.560708Z",
     "iopub.status.busy": "2023-11-25T14:29:49.559630Z",
     "iopub.status.idle": "2023-11-25T14:29:49.588693Z",
     "shell.execute_reply": "2023-11-25T14:29:49.587240Z"
    },
    "papermill": {
     "duration": 0.059258,
     "end_time": "2023-11-25T14:29:49.591346",
     "exception": false,
     "start_time": "2023-11-25T14:29:49.532088",
     "status": "completed"
    },
    "tags": []
   },
   "outputs": [
    {
     "name": "stdout",
     "output_type": "stream",
     "text": [
      "<class 'pandas.core.frame.DataFrame'>\n",
      "RangeIndex: 5110 entries, 0 to 5109\n",
      "Data columns (total 11 columns):\n",
      " #   Column             Non-Null Count  Dtype  \n",
      "---  ------             --------------  -----  \n",
      " 0   gender             5110 non-null   object \n",
      " 1   age                5110 non-null   float64\n",
      " 2   hypertension       5110 non-null   int64  \n",
      " 3   heart_disease      5110 non-null   int64  \n",
      " 4   ever_married       5110 non-null   object \n",
      " 5   work_type          5110 non-null   object \n",
      " 6   Residence_type     5110 non-null   object \n",
      " 7   avg_glucose_level  5110 non-null   float64\n",
      " 8   bmi                4909 non-null   float64\n",
      " 9   smoking_status     5110 non-null   object \n",
      " 10  stroke             5110 non-null   int64  \n",
      "dtypes: float64(3), int64(3), object(5)\n",
      "memory usage: 439.3+ KB\n"
     ]
    }
   ],
   "source": [
    "data.info()"
   ]
  },
  {
   "cell_type": "code",
   "execution_count": 7,
   "id": "0dde3225",
   "metadata": {
    "execution": {
     "iopub.execute_input": "2023-11-25T14:29:49.646120Z",
     "iopub.status.busy": "2023-11-25T14:29:49.645670Z",
     "iopub.status.idle": "2023-11-25T14:29:49.706897Z",
     "shell.execute_reply": "2023-11-25T14:29:49.705692Z"
    },
    "papermill": {
     "duration": 0.091726,
     "end_time": "2023-11-25T14:29:49.709306",
     "exception": false,
     "start_time": "2023-11-25T14:29:49.617580",
     "status": "completed"
    },
    "tags": []
   },
   "outputs": [
    {
     "data": {
      "text/html": [
       "<div>\n",
       "<style scoped>\n",
       "    .dataframe tbody tr th:only-of-type {\n",
       "        vertical-align: middle;\n",
       "    }\n",
       "\n",
       "    .dataframe tbody tr th {\n",
       "        vertical-align: top;\n",
       "    }\n",
       "\n",
       "    .dataframe thead th {\n",
       "        text-align: right;\n",
       "    }\n",
       "</style>\n",
       "<table border=\"1\" class=\"dataframe\">\n",
       "  <thead>\n",
       "    <tr style=\"text-align: right;\">\n",
       "      <th></th>\n",
       "      <th>gender</th>\n",
       "      <th>age</th>\n",
       "      <th>hypertension</th>\n",
       "      <th>heart_disease</th>\n",
       "      <th>ever_married</th>\n",
       "      <th>work_type</th>\n",
       "      <th>Residence_type</th>\n",
       "      <th>avg_glucose_level</th>\n",
       "      <th>bmi</th>\n",
       "      <th>smoking_status</th>\n",
       "      <th>stroke</th>\n",
       "    </tr>\n",
       "  </thead>\n",
       "  <tbody>\n",
       "    <tr>\n",
       "      <th>count</th>\n",
       "      <td>5110</td>\n",
       "      <td>5110.00</td>\n",
       "      <td>5110.0</td>\n",
       "      <td>5110.00</td>\n",
       "      <td>5110</td>\n",
       "      <td>5110</td>\n",
       "      <td>5110</td>\n",
       "      <td>5110.00</td>\n",
       "      <td>4909.00</td>\n",
       "      <td>5110</td>\n",
       "      <td>5110.00</td>\n",
       "    </tr>\n",
       "    <tr>\n",
       "      <th>unique</th>\n",
       "      <td>3</td>\n",
       "      <td>NaN</td>\n",
       "      <td>NaN</td>\n",
       "      <td>NaN</td>\n",
       "      <td>2</td>\n",
       "      <td>5</td>\n",
       "      <td>2</td>\n",
       "      <td>NaN</td>\n",
       "      <td>NaN</td>\n",
       "      <td>4</td>\n",
       "      <td>NaN</td>\n",
       "    </tr>\n",
       "    <tr>\n",
       "      <th>top</th>\n",
       "      <td>Female</td>\n",
       "      <td>NaN</td>\n",
       "      <td>NaN</td>\n",
       "      <td>NaN</td>\n",
       "      <td>Yes</td>\n",
       "      <td>Private</td>\n",
       "      <td>Urban</td>\n",
       "      <td>NaN</td>\n",
       "      <td>NaN</td>\n",
       "      <td>never smoked</td>\n",
       "      <td>NaN</td>\n",
       "    </tr>\n",
       "    <tr>\n",
       "      <th>freq</th>\n",
       "      <td>2994</td>\n",
       "      <td>NaN</td>\n",
       "      <td>NaN</td>\n",
       "      <td>NaN</td>\n",
       "      <td>3353</td>\n",
       "      <td>2925</td>\n",
       "      <td>2596</td>\n",
       "      <td>NaN</td>\n",
       "      <td>NaN</td>\n",
       "      <td>1892</td>\n",
       "      <td>NaN</td>\n",
       "    </tr>\n",
       "    <tr>\n",
       "      <th>mean</th>\n",
       "      <td>NaN</td>\n",
       "      <td>43.23</td>\n",
       "      <td>0.1</td>\n",
       "      <td>0.05</td>\n",
       "      <td>NaN</td>\n",
       "      <td>NaN</td>\n",
       "      <td>NaN</td>\n",
       "      <td>106.15</td>\n",
       "      <td>28.89</td>\n",
       "      <td>NaN</td>\n",
       "      <td>0.05</td>\n",
       "    </tr>\n",
       "    <tr>\n",
       "      <th>std</th>\n",
       "      <td>NaN</td>\n",
       "      <td>22.61</td>\n",
       "      <td>0.3</td>\n",
       "      <td>0.23</td>\n",
       "      <td>NaN</td>\n",
       "      <td>NaN</td>\n",
       "      <td>NaN</td>\n",
       "      <td>45.28</td>\n",
       "      <td>7.85</td>\n",
       "      <td>NaN</td>\n",
       "      <td>0.22</td>\n",
       "    </tr>\n",
       "    <tr>\n",
       "      <th>min</th>\n",
       "      <td>NaN</td>\n",
       "      <td>0.08</td>\n",
       "      <td>0.0</td>\n",
       "      <td>0.00</td>\n",
       "      <td>NaN</td>\n",
       "      <td>NaN</td>\n",
       "      <td>NaN</td>\n",
       "      <td>55.12</td>\n",
       "      <td>10.30</td>\n",
       "      <td>NaN</td>\n",
       "      <td>0.00</td>\n",
       "    </tr>\n",
       "    <tr>\n",
       "      <th>25%</th>\n",
       "      <td>NaN</td>\n",
       "      <td>25.00</td>\n",
       "      <td>0.0</td>\n",
       "      <td>0.00</td>\n",
       "      <td>NaN</td>\n",
       "      <td>NaN</td>\n",
       "      <td>NaN</td>\n",
       "      <td>77.24</td>\n",
       "      <td>23.50</td>\n",
       "      <td>NaN</td>\n",
       "      <td>0.00</td>\n",
       "    </tr>\n",
       "    <tr>\n",
       "      <th>50%</th>\n",
       "      <td>NaN</td>\n",
       "      <td>45.00</td>\n",
       "      <td>0.0</td>\n",
       "      <td>0.00</td>\n",
       "      <td>NaN</td>\n",
       "      <td>NaN</td>\n",
       "      <td>NaN</td>\n",
       "      <td>91.88</td>\n",
       "      <td>28.10</td>\n",
       "      <td>NaN</td>\n",
       "      <td>0.00</td>\n",
       "    </tr>\n",
       "    <tr>\n",
       "      <th>75%</th>\n",
       "      <td>NaN</td>\n",
       "      <td>61.00</td>\n",
       "      <td>0.0</td>\n",
       "      <td>0.00</td>\n",
       "      <td>NaN</td>\n",
       "      <td>NaN</td>\n",
       "      <td>NaN</td>\n",
       "      <td>114.09</td>\n",
       "      <td>33.10</td>\n",
       "      <td>NaN</td>\n",
       "      <td>0.00</td>\n",
       "    </tr>\n",
       "    <tr>\n",
       "      <th>max</th>\n",
       "      <td>NaN</td>\n",
       "      <td>82.00</td>\n",
       "      <td>1.0</td>\n",
       "      <td>1.00</td>\n",
       "      <td>NaN</td>\n",
       "      <td>NaN</td>\n",
       "      <td>NaN</td>\n",
       "      <td>271.74</td>\n",
       "      <td>97.60</td>\n",
       "      <td>NaN</td>\n",
       "      <td>1.00</td>\n",
       "    </tr>\n",
       "  </tbody>\n",
       "</table>\n",
       "</div>"
      ],
      "text/plain": [
       "        gender      age  hypertension  heart_disease ever_married work_type  \\\n",
       "count     5110  5110.00        5110.0        5110.00         5110      5110   \n",
       "unique       3      NaN           NaN            NaN            2         5   \n",
       "top     Female      NaN           NaN            NaN          Yes   Private   \n",
       "freq      2994      NaN           NaN            NaN         3353      2925   \n",
       "mean       NaN    43.23           0.1           0.05          NaN       NaN   \n",
       "std        NaN    22.61           0.3           0.23          NaN       NaN   \n",
       "min        NaN     0.08           0.0           0.00          NaN       NaN   \n",
       "25%        NaN    25.00           0.0           0.00          NaN       NaN   \n",
       "50%        NaN    45.00           0.0           0.00          NaN       NaN   \n",
       "75%        NaN    61.00           0.0           0.00          NaN       NaN   \n",
       "max        NaN    82.00           1.0           1.00          NaN       NaN   \n",
       "\n",
       "       Residence_type  avg_glucose_level      bmi smoking_status   stroke  \n",
       "count            5110            5110.00  4909.00           5110  5110.00  \n",
       "unique              2                NaN      NaN              4      NaN  \n",
       "top             Urban                NaN      NaN   never smoked      NaN  \n",
       "freq             2596                NaN      NaN           1892      NaN  \n",
       "mean              NaN             106.15    28.89            NaN     0.05  \n",
       "std               NaN              45.28     7.85            NaN     0.22  \n",
       "min               NaN              55.12    10.30            NaN     0.00  \n",
       "25%               NaN              77.24    23.50            NaN     0.00  \n",
       "50%               NaN              91.88    28.10            NaN     0.00  \n",
       "75%               NaN             114.09    33.10            NaN     0.00  \n",
       "max               NaN             271.74    97.60            NaN     1.00  "
      ]
     },
     "execution_count": 7,
     "metadata": {},
     "output_type": "execute_result"
    }
   ],
   "source": [
    "#describe():method computes summary statistics for numerical columns in the DataFrame.\n",
    "#include='all' parameter ensures that both numerical and categorical columns are included in the summary statistics.\n",
    "#round(..., 2) is used to round the numerical values to two decimal places for better readability.\n",
    "round(data.describe(include='all'), 2)"
   ]
  },
  {
   "cell_type": "markdown",
   "id": "e8722a98",
   "metadata": {
    "papermill": {
     "duration": 0.02648,
     "end_time": "2023-11-25T14:29:49.762290",
     "exception": false,
     "start_time": "2023-11-25T14:29:49.735810",
     "status": "completed"
    },
    "tags": []
   },
   "source": [
    "- We have 5110 samples , with no null values"
   ]
  },
  {
   "cell_type": "markdown",
   "id": "9264a3ee",
   "metadata": {
    "jp-MarkdownHeadingCollapsed": true,
    "papermill": {
     "duration": 0.026396,
     "end_time": "2023-11-25T14:29:49.976530",
     "exception": false,
     "start_time": "2023-11-25T14:29:49.950134",
     "status": "completed"
    },
    "tags": []
   },
   "source": [
    "###  Handling Missing Values"
   ]
  },
  {
   "cell_type": "code",
   "execution_count": 8,
   "id": "628600c0",
   "metadata": {
    "execution": {
     "iopub.execute_input": "2023-11-25T14:29:50.037593Z",
     "iopub.status.busy": "2023-11-25T14:29:50.037194Z",
     "iopub.status.idle": "2023-11-25T14:29:50.049838Z",
     "shell.execute_reply": "2023-11-25T14:29:50.048506Z"
    },
    "papermill": {
     "duration": 0.044741,
     "end_time": "2023-11-25T14:29:50.052740",
     "exception": false,
     "start_time": "2023-11-25T14:29:50.007999",
     "status": "completed"
    },
    "tags": []
   },
   "outputs": [
    {
     "data": {
      "text/plain": [
       "gender                 0\n",
       "age                    0\n",
       "hypertension           0\n",
       "heart_disease          0\n",
       "ever_married           0\n",
       "work_type              0\n",
       "Residence_type         0\n",
       "avg_glucose_level      0\n",
       "bmi                  201\n",
       "smoking_status         0\n",
       "stroke                 0\n",
       "dtype: int64"
      ]
     },
     "execution_count": 8,
     "metadata": {},
     "output_type": "execute_result"
    }
   ],
   "source": [
    "data.isna().sum()"
   ]
  },
  {
   "cell_type": "code",
   "execution_count": 9,
   "id": "078b3fa1",
   "metadata": {
    "execution": {
     "iopub.execute_input": "2023-11-25T14:29:50.112598Z",
     "iopub.status.busy": "2023-11-25T14:29:50.112205Z",
     "iopub.status.idle": "2023-11-25T14:29:50.123414Z",
     "shell.execute_reply": "2023-11-25T14:29:50.122025Z"
    },
    "papermill": {
     "duration": 0.04363,
     "end_time": "2023-11-25T14:29:50.126151",
     "exception": false,
     "start_time": "2023-11-25T14:29:50.082521",
     "status": "completed"
    },
    "tags": []
   },
   "outputs": [
    {
     "name": "stdout",
     "output_type": "stream",
     "text": [
      "gender               0.000000\n",
      "age                  0.000000\n",
      "hypertension         0.000000\n",
      "heart_disease        0.000000\n",
      "ever_married         0.000000\n",
      "work_type            0.000000\n",
      "Residence_type       0.000000\n",
      "avg_glucose_level    0.000000\n",
      "bmi                  3.933464\n",
      "smoking_status       0.000000\n",
      "stroke               0.000000\n",
      "dtype: float64\n"
     ]
    }
   ],
   "source": [
    "#calculating the percentage of missing values for each column in the DataFrame and prints the result.\n",
    "#useful for understanding the proportion of missing values in each column.\n",
    "print((data.isna().sum()/len(data))*100)"
   ]
  },
  {
   "cell_type": "markdown",
   "id": "8bee7ebd",
   "metadata": {
    "papermill": {
     "duration": 0.026954,
     "end_time": "2023-11-25T14:29:50.180927",
     "exception": false,
     "start_time": "2023-11-25T14:29:50.153973",
     "status": "completed"
    },
    "tags": []
   },
   "source": [
    "- There is 201 samples with no values in bmi column , its about 4% of data. For better result we drop them."
   ]
  },
  {
   "cell_type": "code",
   "execution_count": 10,
   "id": "6f16b422",
   "metadata": {
    "execution": {
     "iopub.execute_input": "2023-11-25T14:29:50.237171Z",
     "iopub.status.busy": "2023-11-25T14:29:50.236698Z",
     "iopub.status.idle": "2023-11-25T14:29:50.247340Z",
     "shell.execute_reply": "2023-11-25T14:29:50.246119Z"
    },
    "papermill": {
     "duration": 0.041899,
     "end_time": "2023-11-25T14:29:50.249988",
     "exception": false,
     "start_time": "2023-11-25T14:29:50.208089",
     "status": "completed"
    },
    "tags": []
   },
   "outputs": [],
   "source": [
    "### Missing values in BMI columns is about 4% , we drop them.\n",
    "data.dropna(how='any', inplace=True)\n",
    "\n",
    "#how='any' specifies that a row should be dropped if it contains at least one missing value."
   ]
  },
  {
   "cell_type": "markdown",
   "id": "86d9a163",
   "metadata": {
    "jp-MarkdownHeadingCollapsed": true,
    "papermill": {
     "duration": 0.026393,
     "end_time": "2023-11-25T14:29:50.303342",
     "exception": false,
     "start_time": "2023-11-25T14:29:50.276949",
     "status": "completed"
    },
    "tags": []
   },
   "source": [
    "### Visualization and Plots"
   ]
  },
  {
   "cell_type": "code",
   "execution_count": 11,
   "id": "4156c28d",
   "metadata": {
    "execution": {
     "iopub.execute_input": "2023-11-25T14:29:50.359047Z",
     "iopub.status.busy": "2023-11-25T14:29:50.358633Z",
     "iopub.status.idle": "2023-11-25T14:29:50.366126Z",
     "shell.execute_reply": "2023-11-25T14:29:50.364853Z"
    },
    "papermill": {
     "duration": 0.038396,
     "end_time": "2023-11-25T14:29:50.368736",
     "exception": false,
     "start_time": "2023-11-25T14:29:50.330340",
     "status": "completed"
    },
    "tags": []
   },
   "outputs": [
    {
     "data": {
      "text/plain": [
       "Index(['gender', 'age', 'hypertension', 'heart_disease', 'ever_married',\n",
       "       'work_type', 'Residence_type', 'avg_glucose_level', 'bmi',\n",
       "       'smoking_status'],\n",
       "      dtype='object')"
      ]
     },
     "execution_count": 11,
     "metadata": {},
     "output_type": "execute_result"
    }
   ],
   "source": [
    "#Separating the independent variable and target variable\n",
    "#This is often done to prepare the data for training a machine learning model\n",
    "# The idea is that you want to use the features to train the model to predict the target variable.\n",
    "cols = data.columns[:-1]\n",
    "cols"
   ]
  },
  {
   "cell_type": "code",
   "execution_count": 12,
   "id": "d6b8834c",
   "metadata": {
    "execution": {
     "iopub.execute_input": "2023-11-25T14:29:50.425312Z",
     "iopub.status.busy": "2023-11-25T14:29:50.424910Z",
     "iopub.status.idle": "2023-11-25T14:29:50.450269Z",
     "shell.execute_reply": "2023-11-25T14:29:50.449053Z"
    },
    "papermill": {
     "duration": 0.056824,
     "end_time": "2023-11-25T14:29:50.452902",
     "exception": false,
     "start_time": "2023-11-25T14:29:50.396078",
     "status": "completed"
    },
    "tags": []
   },
   "outputs": [
    {
     "data": {
      "text/html": [
       "<div>\n",
       "<style scoped>\n",
       "    .dataframe tbody tr th:only-of-type {\n",
       "        vertical-align: middle;\n",
       "    }\n",
       "\n",
       "    .dataframe tbody tr th {\n",
       "        vertical-align: top;\n",
       "    }\n",
       "\n",
       "    .dataframe thead th {\n",
       "        text-align: right;\n",
       "    }\n",
       "</style>\n",
       "<table border=\"1\" class=\"dataframe\">\n",
       "  <thead>\n",
       "    <tr style=\"text-align: right;\">\n",
       "      <th></th>\n",
       "      <th>gender</th>\n",
       "      <th>age</th>\n",
       "      <th>hypertension</th>\n",
       "      <th>heart_disease</th>\n",
       "      <th>ever_married</th>\n",
       "      <th>work_type</th>\n",
       "      <th>Residence_type</th>\n",
       "      <th>avg_glucose_level</th>\n",
       "      <th>bmi</th>\n",
       "      <th>smoking_status</th>\n",
       "      <th>stroke</th>\n",
       "    </tr>\n",
       "  </thead>\n",
       "  <tbody>\n",
       "    <tr>\n",
       "      <th>0</th>\n",
       "      <td>Male</td>\n",
       "      <td>67.0</td>\n",
       "      <td>0</td>\n",
       "      <td>1</td>\n",
       "      <td>Yes</td>\n",
       "      <td>Private</td>\n",
       "      <td>Urban</td>\n",
       "      <td>228.69</td>\n",
       "      <td>36.6</td>\n",
       "      <td>formerly smoked</td>\n",
       "      <td>1</td>\n",
       "    </tr>\n",
       "    <tr>\n",
       "      <th>2</th>\n",
       "      <td>Male</td>\n",
       "      <td>80.0</td>\n",
       "      <td>0</td>\n",
       "      <td>1</td>\n",
       "      <td>Yes</td>\n",
       "      <td>Private</td>\n",
       "      <td>Rural</td>\n",
       "      <td>105.92</td>\n",
       "      <td>32.5</td>\n",
       "      <td>never smoked</td>\n",
       "      <td>1</td>\n",
       "    </tr>\n",
       "    <tr>\n",
       "      <th>3</th>\n",
       "      <td>Female</td>\n",
       "      <td>49.0</td>\n",
       "      <td>0</td>\n",
       "      <td>0</td>\n",
       "      <td>Yes</td>\n",
       "      <td>Private</td>\n",
       "      <td>Urban</td>\n",
       "      <td>171.23</td>\n",
       "      <td>34.4</td>\n",
       "      <td>smokes</td>\n",
       "      <td>1</td>\n",
       "    </tr>\n",
       "    <tr>\n",
       "      <th>4</th>\n",
       "      <td>Female</td>\n",
       "      <td>79.0</td>\n",
       "      <td>1</td>\n",
       "      <td>0</td>\n",
       "      <td>Yes</td>\n",
       "      <td>Self-employed</td>\n",
       "      <td>Rural</td>\n",
       "      <td>174.12</td>\n",
       "      <td>24.0</td>\n",
       "      <td>never smoked</td>\n",
       "      <td>1</td>\n",
       "    </tr>\n",
       "    <tr>\n",
       "      <th>5</th>\n",
       "      <td>Male</td>\n",
       "      <td>81.0</td>\n",
       "      <td>0</td>\n",
       "      <td>0</td>\n",
       "      <td>Yes</td>\n",
       "      <td>Private</td>\n",
       "      <td>Urban</td>\n",
       "      <td>186.21</td>\n",
       "      <td>29.0</td>\n",
       "      <td>formerly smoked</td>\n",
       "      <td>1</td>\n",
       "    </tr>\n",
       "    <tr>\n",
       "      <th>...</th>\n",
       "      <td>...</td>\n",
       "      <td>...</td>\n",
       "      <td>...</td>\n",
       "      <td>...</td>\n",
       "      <td>...</td>\n",
       "      <td>...</td>\n",
       "      <td>...</td>\n",
       "      <td>...</td>\n",
       "      <td>...</td>\n",
       "      <td>...</td>\n",
       "      <td>...</td>\n",
       "    </tr>\n",
       "    <tr>\n",
       "      <th>5104</th>\n",
       "      <td>Female</td>\n",
       "      <td>13.0</td>\n",
       "      <td>0</td>\n",
       "      <td>0</td>\n",
       "      <td>No</td>\n",
       "      <td>children</td>\n",
       "      <td>Rural</td>\n",
       "      <td>103.08</td>\n",
       "      <td>18.6</td>\n",
       "      <td>Unknown</td>\n",
       "      <td>0</td>\n",
       "    </tr>\n",
       "    <tr>\n",
       "      <th>5106</th>\n",
       "      <td>Female</td>\n",
       "      <td>81.0</td>\n",
       "      <td>0</td>\n",
       "      <td>0</td>\n",
       "      <td>Yes</td>\n",
       "      <td>Self-employed</td>\n",
       "      <td>Urban</td>\n",
       "      <td>125.20</td>\n",
       "      <td>40.0</td>\n",
       "      <td>never smoked</td>\n",
       "      <td>0</td>\n",
       "    </tr>\n",
       "    <tr>\n",
       "      <th>5107</th>\n",
       "      <td>Female</td>\n",
       "      <td>35.0</td>\n",
       "      <td>0</td>\n",
       "      <td>0</td>\n",
       "      <td>Yes</td>\n",
       "      <td>Self-employed</td>\n",
       "      <td>Rural</td>\n",
       "      <td>82.99</td>\n",
       "      <td>30.6</td>\n",
       "      <td>never smoked</td>\n",
       "      <td>0</td>\n",
       "    </tr>\n",
       "    <tr>\n",
       "      <th>5108</th>\n",
       "      <td>Male</td>\n",
       "      <td>51.0</td>\n",
       "      <td>0</td>\n",
       "      <td>0</td>\n",
       "      <td>Yes</td>\n",
       "      <td>Private</td>\n",
       "      <td>Rural</td>\n",
       "      <td>166.29</td>\n",
       "      <td>25.6</td>\n",
       "      <td>formerly smoked</td>\n",
       "      <td>0</td>\n",
       "    </tr>\n",
       "    <tr>\n",
       "      <th>5109</th>\n",
       "      <td>Female</td>\n",
       "      <td>44.0</td>\n",
       "      <td>0</td>\n",
       "      <td>0</td>\n",
       "      <td>Yes</td>\n",
       "      <td>Govt_job</td>\n",
       "      <td>Urban</td>\n",
       "      <td>85.28</td>\n",
       "      <td>26.2</td>\n",
       "      <td>Unknown</td>\n",
       "      <td>0</td>\n",
       "    </tr>\n",
       "  </tbody>\n",
       "</table>\n",
       "<p>4909 rows × 11 columns</p>\n",
       "</div>"
      ],
      "text/plain": [
       "      gender   age  hypertension  heart_disease ever_married      work_type  \\\n",
       "0       Male  67.0             0              1          Yes        Private   \n",
       "2       Male  80.0             0              1          Yes        Private   \n",
       "3     Female  49.0             0              0          Yes        Private   \n",
       "4     Female  79.0             1              0          Yes  Self-employed   \n",
       "5       Male  81.0             0              0          Yes        Private   \n",
       "...      ...   ...           ...            ...          ...            ...   \n",
       "5104  Female  13.0             0              0           No       children   \n",
       "5106  Female  81.0             0              0          Yes  Self-employed   \n",
       "5107  Female  35.0             0              0          Yes  Self-employed   \n",
       "5108    Male  51.0             0              0          Yes        Private   \n",
       "5109  Female  44.0             0              0          Yes       Govt_job   \n",
       "\n",
       "     Residence_type  avg_glucose_level   bmi   smoking_status  stroke  \n",
       "0             Urban             228.69  36.6  formerly smoked       1  \n",
       "2             Rural             105.92  32.5     never smoked       1  \n",
       "3             Urban             171.23  34.4           smokes       1  \n",
       "4             Rural             174.12  24.0     never smoked       1  \n",
       "5             Urban             186.21  29.0  formerly smoked       1  \n",
       "...             ...                ...   ...              ...     ...  \n",
       "5104          Rural             103.08  18.6          Unknown       0  \n",
       "5106          Urban             125.20  40.0     never smoked       0  \n",
       "5107          Rural              82.99  30.6     never smoked       0  \n",
       "5108          Rural             166.29  25.6  formerly smoked       0  \n",
       "5109          Urban              85.28  26.2          Unknown       0  \n",
       "\n",
       "[4909 rows x 11 columns]"
      ]
     },
     "execution_count": 12,
     "metadata": {},
     "output_type": "execute_result"
    }
   ],
   "source": [
    "data"
   ]
  },
  {
   "cell_type": "code",
   "execution_count": 13,
   "id": "681228d5",
   "metadata": {
    "execution": {
     "iopub.execute_input": "2023-11-25T14:29:50.511663Z",
     "iopub.status.busy": "2023-11-25T14:29:50.511188Z",
     "iopub.status.idle": "2023-11-25T14:29:50.516765Z",
     "shell.execute_reply": "2023-11-25T14:29:50.515863Z"
    },
    "papermill": {
     "duration": 0.038067,
     "end_time": "2023-11-25T14:29:50.518977",
     "exception": false,
     "start_time": "2023-11-25T14:29:50.480910",
     "status": "completed"
    },
    "tags": []
   },
   "outputs": [],
   "source": [
    "#contain the names of columns categorized as numerical and categorical, respectively.\n",
    "numeric_columns = ['age', 'bmi', 'avg_glucose_level']\n",
    "categorical_columns = ['gender', 'hypertension', 'heart_disease', 'ever_married', 'work_type', 'Residence_type', 'smoking_status', 'stroke']"
   ]
  },
  {
   "cell_type": "code",
   "execution_count": 14,
   "id": "fc3cdfab",
   "metadata": {
    "execution": {
     "iopub.execute_input": "2023-11-25T14:29:50.576155Z",
     "iopub.status.busy": "2023-11-25T14:29:50.575634Z",
     "iopub.status.idle": "2023-11-25T14:29:53.386051Z",
     "shell.execute_reply": "2023-11-25T14:29:53.384872Z"
    },
    "papermill": {
     "duration": 2.842969,
     "end_time": "2023-11-25T14:29:53.389522",
     "exception": false,
     "start_time": "2023-11-25T14:29:50.546553",
     "status": "completed"
    },
    "tags": []
   },
   "outputs": [
    {
     "data": {
      "image/png": "[encoded data removed]",
      "text/plain": [
       "<Figure size 1500x800 with 9 Axes>"
      ]
     },
     "metadata": {},
     "output_type": "display_data"
    }
   ],
   "source": [
    "#This code different types of plots (KDE plot, boxplot, and scatter plot) for numerical columns in a dataset.\n",
    "\n",
    "i = 0\n",
    "fig, ax = plt.subplots(3, 3, figsize=(15, 8)) #Creating a 3x3 grid\n",
    "plt.subplots_adjust(hspace = 0.5) #Adjusting the vertical space between subplots for better readability.\n",
    "for num_col in numeric_columns :\n",
    "    sns.kdeplot(x=num_col, hue='stroke', data=data, multiple='stack', ax=ax[i,0]) #Creating a Kernel Density Estimate (KDE) plot\n",
    "    sns.boxplot(x=num_col, data=data, ax=ax[i, 1]) #Creating a boxplot\n",
    "    sns.scatterplot(x=num_col, y='stroke', data=data, ax=ax[i, 2]) #Creating a scatter plot\n",
    "    i+=1 #Incrementing the counter variable i to move to the next row of subplots.\n",
    "plt.show()"
   ]
  },
  {
   "cell_type": "code",
   "execution_count": 15,
   "id": "49e37cd1",
   "metadata": {
    "execution": {
     "iopub.execute_input": "2023-11-25T14:29:53.453529Z",
     "iopub.status.busy": "2023-11-25T14:29:53.452241Z",
     "iopub.status.idle": "2023-11-25T14:29:55.650686Z",
     "shell.execute_reply": "2023-11-25T14:29:55.649765Z"
    },
    "papermill": {
     "duration": 2.233129,
     "end_time": "2023-11-25T14:29:55.653167",
     "exception": false,
     "start_time": "2023-11-25T14:29:53.420038",
     "status": "completed"
    },
    "tags": []
   },
   "outputs": [
    {
     "data": {
      "image/png": "[encoded data removed]",
      "text/plain": [
       "<Figure size 1000x400 with 2 Axes>"
      ]
     },
     "metadata": {},
     "output_type": "display_data"
    },
    {
     "data": {
      "image/png": "[encoded data removed]",
      "text/plain": [
       "<Figure size 1000x400 with 2 Axes>"
      ]
     },
     "metadata": {},
     "output_type": "display_data"
    },
    {
     "data": {
      "image/png": "[encoded data removed]",
      "text/plain": [
       "<Figure size 1000x400 with 2 Axes>"
      ]
     },
     "metadata": {},
     "output_type": "display_data"
    },
    {
     "data": {
      "image/png": "[encoded data removed]",
      "text/plain": [
       "<Figure size 1000x400 with 2 Axes>"
      ]
     },
     "metadata": {},
     "output_type": "display_data"
    }
   ],
   "source": [
    "#This code generates pairs of count plots for each categorical column in the dataset. \n",
    "\n",
    "i=0\n",
    "while i<8 :\n",
    "    \n",
    "    # Left AX\n",
    "    fig = plt.figure(figsize=(10, 4)) #Creating a new figure for the pair of count plots with a specific size.\n",
    "    plt.subplot(1, 2, 1) #Creating the left subplot\n",
    "    plt.title(categorical_columns[i], size=20, weight='bold', color='navy') # Setting the title of the left subplot\n",
    "    ax = sns.countplot(x=categorical_columns[i], data=data)\n",
    "    ax.bar_label(ax.containers[0])\n",
    "    ax.tick_params(axis='x', rotation=300)\n",
    "    i+=1\n",
    "    \n",
    "    # Right AX\n",
    "    plt.subplot(1, 2, 2) #Creating the right subplot \n",
    "    plt.title(categorical_columns[i], size=20, weight='bold', color='navy')\n",
    "    ax = sns.countplot(x=categorical_columns[i], data=data)\n",
    "    ax.bar_label(ax.containers[0])\n",
    "    ax.tick_params(axis='x', rotation=300)\n",
    "    i+=1\n",
    "    plt.show()"
   ]
  },
  {
   "cell_type": "code",
   "execution_count": 16,
   "id": "7f9f8a79",
   "metadata": {
    "execution": {
     "iopub.execute_input": "2023-11-25T14:29:55.720967Z",
     "iopub.status.busy": "2023-11-25T14:29:55.720546Z",
     "iopub.status.idle": "2023-11-25T14:29:55.977941Z",
     "shell.execute_reply": "2023-11-25T14:29:55.976344Z"
    },
    "papermill": {
     "duration": 0.296076,
     "end_time": "2023-11-25T14:29:55.982205",
     "exception": false,
     "start_time": "2023-11-25T14:29:55.686129",
     "status": "completed"
    },
    "tags": []
   },
   "outputs": [
    {
     "data": {
      "image/png": "[encoded data removed]",
      "text/plain": [
       "<Figure size 600x600 with 1 Axes>"
      ]
     },
     "metadata": {},
     "output_type": "display_data"
    }
   ],
   "source": [
    "x = data['stroke'].value_counts() #counts the occurrences of each unique value in the 'stroke' column of the DataFrame \n",
    "\n",
    "\n",
    "explode = [0, 0.15] #second wedge, for STROKE=1 is exploded by 15% of the radius.\n",
    "labels = ['Stroke=0', 'Stroke=1']\n",
    "fig, ax = plt.subplots(figsize=(6, 6), subplot_kw=dict(aspect=\"equal\"))\n",
    "\n",
    "plt.pie(x, explode=explode, shadow=True, autopct='%1.1f%%', labels=labels, textprops=dict(color=\"w\", weight='bold', size=15))\n",
    "plt.legend()\n",
    "plt.show()"
   ]
  },
  {
   "cell_type": "markdown",
   "id": "c81233ae",
   "metadata": {
    "jp-MarkdownHeadingCollapsed": true,
    "papermill": {
     "duration": 0.033405,
     "end_time": "2023-11-25T14:29:56.195122",
     "exception": false,
     "start_time": "2023-11-25T14:29:56.161717",
     "status": "completed"
    },
    "tags": []
   },
   "source": [
    "### Unique Values\n",
    "- We count number of unique values in each categorical column, to change them with integer values. Here we use .unique() command."
   ]
  },
  {
   "cell_type": "code",
   "execution_count": 17,
   "id": "17fe938d",
   "metadata": {
    "execution": {
     "iopub.execute_input": "2023-11-25T14:29:56.338712Z",
     "iopub.status.busy": "2023-11-25T14:29:56.337796Z",
     "iopub.status.idle": "2023-11-25T14:29:56.350013Z",
     "shell.execute_reply": "2023-11-25T14:29:56.348453Z"
    },
    "papermill": {
     "duration": 0.051995,
     "end_time": "2023-11-25T14:29:56.353159",
     "exception": false,
     "start_time": "2023-11-25T14:29:56.301164",
     "status": "completed"
    },
    "tags": []
   },
   "outputs": [
    {
     "name": "stdout",
     "output_type": "stream",
     "text": [
      "column : gender\n",
      "Male : 0\n",
      "Female : 1\n",
      "Other : 2\n",
      "_____________________________________________\n",
      "column : ever_married\n",
      "Yes : 0\n",
      "No : 1\n",
      "_____________________________________________\n",
      "column : work_type\n",
      "Private : 0\n",
      "Self-employed : 1\n",
      "Govt_job : 2\n",
      "children : 3\n",
      "Never_worked : 4\n",
      "_____________________________________________\n",
      "column : smoking_status\n",
      "formerly smoked : 0\n",
      "never smoked : 1\n",
      "smokes : 2\n",
      "Unknown : 3\n",
      "_____________________________________________\n",
      "column : Residence_type\n",
      "Urban : 0\n",
      "Rural : 1\n",
      "_____________________________________________\n"
     ]
    }
   ],
   "source": [
    "#creates a list, containing the names of categorical columns\n",
    "columns_temp = ['gender', 'ever_married', 'work_type', 'smoking_status', 'Residence_type']\n",
    "\n",
    "for col in columns_temp :\n",
    "    print('column :', col)\n",
    "    for index, unique in enumerate(data[col].unique()) :\n",
    "        print(unique, ':', index) #prints each unique value in the column along with its index within the column.\n",
    "    print('_'*45)"
   ]
  },
  {
   "cell_type": "code",
   "execution_count": 18,
   "id": "a1b8b750",
   "metadata": {
    "execution": {
     "iopub.execute_input": "2023-11-25T14:29:56.425367Z",
     "iopub.status.busy": "2023-11-25T14:29:56.424673Z",
     "iopub.status.idle": "2023-11-25T14:29:56.461284Z",
     "shell.execute_reply": "2023-11-25T14:29:56.459855Z"
    },
    "papermill": {
     "duration": 0.076054,
     "end_time": "2023-11-25T14:29:56.464226",
     "exception": false,
     "start_time": "2023-11-25T14:29:56.388172",
     "status": "completed"
    },
    "tags": []
   },
   "outputs": [],
   "source": [
    "#each block of code replaces categorical values in specific columns with corresponding numerical values\n",
    "\n",
    "#for gender\n",
    "data_2 = data.replace(\n",
    "    {'gender' : {'Male' : 0, 'Female' : 1, 'Other' : 2}}\n",
    ")\n",
    "\n",
    "#for ever_married\n",
    "data_2 =  data_2.replace(\n",
    "    {'ever_married' : {'Yes' : 0, 'No' : 1}}\n",
    ")\n",
    "\n",
    "#for work_type\n",
    "data_2 =  data_2.replace(\n",
    "    {'work_type' : {'Private' : 0, 'Self-employed' : 1, 'Govt_job' : 2, 'children' : 3, 'Never_worked' : 4}}\n",
    ")\n",
    "\n",
    "#for smoking_status\n",
    "data_2 =  data_2.replace(\n",
    "    {'smoking_status' : {'formerly smoked' : 0, 'never smoked' : 1, 'smokes' : 2, 'Unknown' : 3}}\n",
    ")\n",
    "\n",
    "#for Residence_type\n",
    "data_2 =  data_2.replace(\n",
    "    {'Residence_type' : {'Urban' : 0, 'Rural' : 1}}\n",
    ")"
   ]
  },
  {
   "cell_type": "code",
   "execution_count": 19,
   "id": "177e7eea",
   "metadata": {
    "execution": {
     "iopub.execute_input": "2023-11-25T14:29:56.537517Z",
     "iopub.status.busy": "2023-11-25T14:29:56.537104Z",
     "iopub.status.idle": "2023-11-25T14:29:56.555836Z",
     "shell.execute_reply": "2023-11-25T14:29:56.554609Z"
    },
    "papermill": {
     "duration": 0.058372,
     "end_time": "2023-11-25T14:29:56.558610",
     "exception": false,
     "start_time": "2023-11-25T14:29:56.500238",
     "status": "completed"
    },
    "tags": []
   },
   "outputs": [
    {
     "data": {
      "text/html": [
       "<div>\n",
       "<style scoped>\n",
       "    .dataframe tbody tr th:only-of-type {\n",
       "        vertical-align: middle;\n",
       "    }\n",
       "\n",
       "    .dataframe tbody tr th {\n",
       "        vertical-align: top;\n",
       "    }\n",
       "\n",
       "    .dataframe thead th {\n",
       "        text-align: right;\n",
       "    }\n",
       "</style>\n",
       "<table border=\"1\" class=\"dataframe\">\n",
       "  <thead>\n",
       "    <tr style=\"text-align: right;\">\n",
       "      <th></th>\n",
       "      <th>gender</th>\n",
       "      <th>age</th>\n",
       "      <th>hypertension</th>\n",
       "      <th>heart_disease</th>\n",
       "      <th>ever_married</th>\n",
       "      <th>work_type</th>\n",
       "      <th>Residence_type</th>\n",
       "      <th>avg_glucose_level</th>\n",
       "      <th>bmi</th>\n",
       "      <th>smoking_status</th>\n",
       "      <th>stroke</th>\n",
       "    </tr>\n",
       "  </thead>\n",
       "  <tbody>\n",
       "    <tr>\n",
       "      <th>0</th>\n",
       "      <td>0</td>\n",
       "      <td>67.0</td>\n",
       "      <td>0</td>\n",
       "      <td>1</td>\n",
       "      <td>0</td>\n",
       "      <td>0</td>\n",
       "      <td>0</td>\n",
       "      <td>228.69</td>\n",
       "      <td>36.6</td>\n",
       "      <td>0</td>\n",
       "      <td>1</td>\n",
       "    </tr>\n",
       "    <tr>\n",
       "      <th>2</th>\n",
       "      <td>0</td>\n",
       "      <td>80.0</td>\n",
       "      <td>0</td>\n",
       "      <td>1</td>\n",
       "      <td>0</td>\n",
       "      <td>0</td>\n",
       "      <td>1</td>\n",
       "      <td>105.92</td>\n",
       "      <td>32.5</td>\n",
       "      <td>1</td>\n",
       "      <td>1</td>\n",
       "    </tr>\n",
       "    <tr>\n",
       "      <th>3</th>\n",
       "      <td>1</td>\n",
       "      <td>49.0</td>\n",
       "      <td>0</td>\n",
       "      <td>0</td>\n",
       "      <td>0</td>\n",
       "      <td>0</td>\n",
       "      <td>0</td>\n",
       "      <td>171.23</td>\n",
       "      <td>34.4</td>\n",
       "      <td>2</td>\n",
       "      <td>1</td>\n",
       "    </tr>\n",
       "    <tr>\n",
       "      <th>4</th>\n",
       "      <td>1</td>\n",
       "      <td>79.0</td>\n",
       "      <td>1</td>\n",
       "      <td>0</td>\n",
       "      <td>0</td>\n",
       "      <td>1</td>\n",
       "      <td>1</td>\n",
       "      <td>174.12</td>\n",
       "      <td>24.0</td>\n",
       "      <td>1</td>\n",
       "      <td>1</td>\n",
       "    </tr>\n",
       "    <tr>\n",
       "      <th>5</th>\n",
       "      <td>0</td>\n",
       "      <td>81.0</td>\n",
       "      <td>0</td>\n",
       "      <td>0</td>\n",
       "      <td>0</td>\n",
       "      <td>0</td>\n",
       "      <td>0</td>\n",
       "      <td>186.21</td>\n",
       "      <td>29.0</td>\n",
       "      <td>0</td>\n",
       "      <td>1</td>\n",
       "    </tr>\n",
       "  </tbody>\n",
       "</table>\n",
       "</div>"
      ],
      "text/plain": [
       "   gender   age  hypertension  heart_disease  ever_married  work_type  \\\n",
       "0       0  67.0             0              1             0          0   \n",
       "2       0  80.0             0              1             0          0   \n",
       "3       1  49.0             0              0             0          0   \n",
       "4       1  79.0             1              0             0          1   \n",
       "5       0  81.0             0              0             0          0   \n",
       "\n",
       "   Residence_type  avg_glucose_level   bmi  smoking_status  stroke  \n",
       "0               0             228.69  36.6               0       1  \n",
       "2               1             105.92  32.5               1       1  \n",
       "3               0             171.23  34.4               2       1  \n",
       "4               1             174.12  24.0               1       1  \n",
       "5               0             186.21  29.0               0       1  "
      ]
     },
     "execution_count": 19,
     "metadata": {},
     "output_type": "execute_result"
    }
   ],
   "source": [
    "data_2.head()"
   ]
  },
  {
   "cell_type": "markdown",
   "id": "86b12b85",
   "metadata": {
    "jp-MarkdownHeadingCollapsed": true,
    "papermill": {
     "duration": 0.033743,
     "end_time": "2023-11-25T14:29:56.627319",
     "exception": false,
     "start_time": "2023-11-25T14:29:56.593576",
     "status": "completed"
    },
    "tags": []
   },
   "source": [
    "### Normalization"
   ]
  },
  {
   "cell_type": "markdown",
   "id": "447a0b5a",
   "metadata": {
    "papermill": {
     "duration": 0.03341,
     "end_time": "2023-11-25T14:29:56.694859",
     "exception": false,
     "start_time": "2023-11-25T14:29:56.661449",
     "status": "completed"
    },
    "tags": []
   },
   "source": [
    "- Define X & y "
   ]
  },
  {
   "cell_type": "code",
   "execution_count": 20,
   "id": "0fba9b02",
   "metadata": {
    "execution": {
     "iopub.execute_input": "2023-11-25T14:29:56.765717Z",
     "iopub.status.busy": "2023-11-25T14:29:56.764558Z",
     "iopub.status.idle": "2023-11-25T14:29:56.771965Z",
     "shell.execute_reply": "2023-11-25T14:29:56.770660Z"
    },
    "papermill": {
     "duration": 0.045807,
     "end_time": "2023-11-25T14:29:56.774652",
     "exception": false,
     "start_time": "2023-11-25T14:29:56.728845",
     "status": "completed"
    },
    "tags": []
   },
   "outputs": [],
   "source": [
    "#The resulting DataFrame contains the features (independent variables) that will be\n",
    "#used to train a model.\n",
    "\n",
    "X_temp = data_2.drop(columns='stroke')\n",
    "y = data_2.stroke #epresents the target variable (dependent variable)"
   ]
  },
  {
   "cell_type": "markdown",
   "id": "7da51605",
   "metadata": {
    "papermill": {
     "duration": 0.033699,
     "end_time": "2023-11-25T14:29:56.843385",
     "exception": false,
     "start_time": "2023-11-25T14:29:56.809686",
     "status": "completed"
    },
    "tags": []
   },
   "source": [
    "- To decrease effect of larg values, we use MinMaxScaler to normalize X."
   ]
  },
  {
   "cell_type": "code",
   "execution_count": 21,
   "id": "fa36423d",
   "metadata": {
    "execution": {
     "iopub.execute_input": "2023-11-25T14:29:56.914097Z",
     "iopub.status.busy": "2023-11-25T14:29:56.913673Z",
     "iopub.status.idle": "2023-11-25T14:29:56.964576Z",
     "shell.execute_reply": "2023-11-25T14:29:56.963323Z"
    },
    "papermill": {
     "duration": 0.089247,
     "end_time": "2023-11-25T14:29:56.967520",
     "exception": false,
     "start_time": "2023-11-25T14:29:56.878273",
     "status": "completed"
    },
    "tags": []
   },
   "outputs": [
    {
     "data": {
      "text/html": [
       "<div>\n",
       "<style scoped>\n",
       "    .dataframe tbody tr th:only-of-type {\n",
       "        vertical-align: middle;\n",
       "    }\n",
       "\n",
       "    .dataframe tbody tr th {\n",
       "        vertical-align: top;\n",
       "    }\n",
       "\n",
       "    .dataframe thead th {\n",
       "        text-align: right;\n",
       "    }\n",
       "</style>\n",
       "<table border=\"1\" class=\"dataframe\">\n",
       "  <thead>\n",
       "    <tr style=\"text-align: right;\">\n",
       "      <th></th>\n",
       "      <th>gender</th>\n",
       "      <th>age</th>\n",
       "      <th>hypertension</th>\n",
       "      <th>heart_disease</th>\n",
       "      <th>ever_married</th>\n",
       "      <th>work_type</th>\n",
       "      <th>Residence_type</th>\n",
       "      <th>avg_glucose_level</th>\n",
       "      <th>bmi</th>\n",
       "      <th>smoking_status</th>\n",
       "    </tr>\n",
       "  </thead>\n",
       "  <tbody>\n",
       "    <tr>\n",
       "      <th>count</th>\n",
       "      <td>4909.000000</td>\n",
       "      <td>4909.000000</td>\n",
       "      <td>4909.000000</td>\n",
       "      <td>4909.000000</td>\n",
       "      <td>4909.000000</td>\n",
       "      <td>4909.000000</td>\n",
       "      <td>4909.000000</td>\n",
       "      <td>4909.000000</td>\n",
       "      <td>4909.000000</td>\n",
       "      <td>4909.000000</td>\n",
       "    </tr>\n",
       "    <tr>\n",
       "      <th>mean</th>\n",
       "      <td>0.295274</td>\n",
       "      <td>0.522282</td>\n",
       "      <td>0.091872</td>\n",
       "      <td>0.049501</td>\n",
       "      <td>0.347321</td>\n",
       "      <td>0.210634</td>\n",
       "      <td>0.492768</td>\n",
       "      <td>0.231674</td>\n",
       "      <td>0.212981</td>\n",
       "      <td>0.527942</td>\n",
       "    </tr>\n",
       "    <tr>\n",
       "      <th>std</th>\n",
       "      <td>0.246098</td>\n",
       "      <td>0.275331</td>\n",
       "      <td>0.288875</td>\n",
       "      <td>0.216934</td>\n",
       "      <td>0.476167</td>\n",
       "      <td>0.281014</td>\n",
       "      <td>0.499999</td>\n",
       "      <td>0.205080</td>\n",
       "      <td>0.089966</td>\n",
       "      <td>0.363382</td>\n",
       "    </tr>\n",
       "    <tr>\n",
       "      <th>min</th>\n",
       "      <td>0.000000</td>\n",
       "      <td>0.000000</td>\n",
       "      <td>0.000000</td>\n",
       "      <td>0.000000</td>\n",
       "      <td>0.000000</td>\n",
       "      <td>0.000000</td>\n",
       "      <td>0.000000</td>\n",
       "      <td>0.000000</td>\n",
       "      <td>0.000000</td>\n",
       "      <td>0.000000</td>\n",
       "    </tr>\n",
       "    <tr>\n",
       "      <th>25%</th>\n",
       "      <td>0.000000</td>\n",
       "      <td>0.304199</td>\n",
       "      <td>0.000000</td>\n",
       "      <td>0.000000</td>\n",
       "      <td>0.000000</td>\n",
       "      <td>0.000000</td>\n",
       "      <td>0.000000</td>\n",
       "      <td>0.101330</td>\n",
       "      <td>0.151203</td>\n",
       "      <td>0.333333</td>\n",
       "    </tr>\n",
       "    <tr>\n",
       "      <th>50%</th>\n",
       "      <td>0.500000</td>\n",
       "      <td>0.536133</td>\n",
       "      <td>0.000000</td>\n",
       "      <td>0.000000</td>\n",
       "      <td>0.000000</td>\n",
       "      <td>0.000000</td>\n",
       "      <td>0.000000</td>\n",
       "      <td>0.168775</td>\n",
       "      <td>0.203895</td>\n",
       "      <td>0.333333</td>\n",
       "    </tr>\n",
       "    <tr>\n",
       "      <th>75%</th>\n",
       "      <td>0.500000</td>\n",
       "      <td>0.731445</td>\n",
       "      <td>0.000000</td>\n",
       "      <td>0.000000</td>\n",
       "      <td>1.000000</td>\n",
       "      <td>0.500000</td>\n",
       "      <td>1.000000</td>\n",
       "      <td>0.269827</td>\n",
       "      <td>0.261168</td>\n",
       "      <td>1.000000</td>\n",
       "    </tr>\n",
       "    <tr>\n",
       "      <th>max</th>\n",
       "      <td>1.000000</td>\n",
       "      <td>1.000000</td>\n",
       "      <td>1.000000</td>\n",
       "      <td>1.000000</td>\n",
       "      <td>1.000000</td>\n",
       "      <td>1.000000</td>\n",
       "      <td>1.000000</td>\n",
       "      <td>1.000000</td>\n",
       "      <td>1.000000</td>\n",
       "      <td>1.000000</td>\n",
       "    </tr>\n",
       "  </tbody>\n",
       "</table>\n",
       "</div>"
      ],
      "text/plain": [
       "            gender          age  hypertension  heart_disease  ever_married  \\\n",
       "count  4909.000000  4909.000000   4909.000000    4909.000000   4909.000000   \n",
       "mean      0.295274     0.522282      0.091872       0.049501      0.347321   \n",
       "std       0.246098     0.275331      0.288875       0.216934      0.476167   \n",
       "min       0.000000     0.000000      0.000000       0.000000      0.000000   \n",
       "25%       0.000000     0.304199      0.000000       0.000000      0.000000   \n",
       "50%       0.500000     0.536133      0.000000       0.000000      0.000000   \n",
       "75%       0.500000     0.731445      0.000000       0.000000      1.000000   \n",
       "max       1.000000     1.000000      1.000000       1.000000      1.000000   \n",
       "\n",
       "         work_type  Residence_type  avg_glucose_level          bmi  \\\n",
       "count  4909.000000     4909.000000        4909.000000  4909.000000   \n",
       "mean      0.210634        0.492768           0.231674     0.212981   \n",
       "std       0.281014        0.499999           0.205080     0.089966   \n",
       "min       0.000000        0.000000           0.000000     0.000000   \n",
       "25%       0.000000        0.000000           0.101330     0.151203   \n",
       "50%       0.000000        0.000000           0.168775     0.203895   \n",
       "75%       0.500000        1.000000           0.269827     0.261168   \n",
       "max       1.000000        1.000000           1.000000     1.000000   \n",
       "\n",
       "       smoking_status  \n",
       "count     4909.000000  \n",
       "mean         0.527942  \n",
       "std          0.363382  \n",
       "min          0.000000  \n",
       "25%          0.333333  \n",
       "50%          0.333333  \n",
       "75%          1.000000  \n",
       "max          1.000000  "
      ]
     },
     "execution_count": 21,
     "metadata": {},
     "output_type": "execute_result"
    }
   ],
   "source": [
    "scaler = MinMaxScaler().fit_transform(X_temp)\n",
    "X = pd.DataFrame(scaler, columns=X_temp.columns)\n",
    "X.describe()"
   ]
  },
  {
   "cell_type": "markdown",
   "id": "f4191d06",
   "metadata": {
    "papermill": {
     "duration": 0.036602,
     "end_time": "2023-11-25T14:29:57.045136",
     "exception": false,
     "start_time": "2023-11-25T14:29:57.008534",
     "status": "completed"
    },
    "tags": []
   },
   "source": [
    "### Step-4:Modeling"
   ]
  },
  {
   "cell_type": "markdown",
   "id": "0faa2ec1",
   "metadata": {
    "jp-MarkdownHeadingCollapsed": true,
    "papermill": {
     "duration": 0.039451,
     "end_time": "2023-11-25T14:29:57.122335",
     "exception": false,
     "start_time": "2023-11-25T14:29:57.082884",
     "status": "completed"
    },
    "tags": []
   },
   "source": [
    "- Initialization"
   ]
  },
  {
   "cell_type": "code",
   "execution_count": 22,
   "id": "e90a404d",
   "metadata": {
    "execution": {
     "iopub.execute_input": "2023-11-25T14:29:57.199049Z",
     "iopub.status.busy": "2023-11-25T14:29:57.198586Z",
     "iopub.status.idle": "2023-11-25T14:29:57.206762Z",
     "shell.execute_reply": "2023-11-25T14:29:57.205388Z"
    },
    "papermill": {
     "duration": 0.048986,
     "end_time": "2023-11-25T14:29:57.209278",
     "exception": false,
     "start_time": "2023-11-25T14:29:57.160292",
     "status": "completed"
    },
    "tags": []
   },
   "outputs": [],
   "source": [
    "# define a function to ploting Confusion matrix\n",
    "def plot_confusion_matrix(y_test, y_prediction):\n",
    "    cm = metrics.confusion_matrix(y_test, y_prediction)\n",
    "    ax = plt.subplot()\n",
    "    ax = sns.heatmap(cm, annot=True, fmt='', cmap=\"Greens\")\n",
    "    ax.set_xlabel('Prediced labels')\n",
    "    ax.set_ylabel('True labels')\n",
    "    ax.set_title('Confusion Matrix')\n",
    "    ax.xaxis.set_ticklabels(['Dont Had Stroke', 'Had Stroke'])\n",
    "    ax.yaxis.set_ticklabels(['Dont Had Stroke', 'Had Stroke']) \n",
    "    plt.show()"
   ]
  },
  {
   "cell_type": "code",
   "execution_count": 23,
   "id": "8d2ee34e",
   "metadata": {
    "execution": {
     "iopub.execute_input": "2023-11-25T14:29:57.282488Z",
     "iopub.status.busy": "2023-11-25T14:29:57.282065Z",
     "iopub.status.idle": "2023-11-25T14:29:57.290266Z",
     "shell.execute_reply": "2023-11-25T14:29:57.289343Z"
    },
    "papermill": {
     "duration": 0.047615,
     "end_time": "2023-11-25T14:29:57.292595",
     "exception": false,
     "start_time": "2023-11-25T14:29:57.244980",
     "status": "completed"
    },
    "tags": []
   },
   "outputs": [],
   "source": [
    "# Splite X, y to train & test dataset.\n",
    "X_train, X_test, y_train, y_test = train_test_split(X, y, random_state=0, test_size=0.25)"
   ]
  },
  {
   "cell_type": "markdown",
   "id": "c39cfe8b",
   "metadata": {
    "papermill": {
     "duration": 0.034655,
     "end_time": "2023-11-25T14:29:57.362550",
     "exception": false,
     "start_time": "2023-11-25T14:29:57.327895",
     "status": "completed"
    },
    "tags": []
   },
   "source": [
    "### RandomForestClassifier"
   ]
  },
  {
   "cell_type": "code",
   "execution_count": 24,
   "id": "cee109bc",
   "metadata": {
    "execution": {
     "iopub.execute_input": "2023-11-25T14:29:57.436646Z",
     "iopub.status.busy": "2023-11-25T14:29:57.435876Z",
     "iopub.status.idle": "2023-11-25T14:34:21.973103Z",
     "shell.execute_reply": "2023-11-25T14:34:21.971825Z"
    },
    "papermill": {
     "duration": 264.614169,
     "end_time": "2023-11-25T14:34:22.013099",
     "exception": false,
     "start_time": "2023-11-25T14:29:57.398930",
     "status": "completed"
    },
    "tags": []
   },
   "outputs": [
    {
     "name": "stdout",
     "output_type": "stream",
     "text": [
      "Tuned hyper parameters :  {'criterion': 'entropy', 'max_features': 'log2', 'n_estimators': 500}\n"
     ]
    }
   ],
   "source": [
    "# a dictionary to define parameters to test in algorithm\n",
    "parameters = {\n",
    "    'n_estimators' : [50, 100, 250, 500],\n",
    "    'criterion' : ['gini', 'entropy', 'log_loss'],\n",
    "    'max_features' : ['sqrt', 'log2']\n",
    "}\n",
    "\n",
    "rf = RandomForestClassifier(n_jobs=-1)\n",
    "rf_cv = GridSearchCV(estimator=rf, cv=10, param_grid=parameters).fit(X_train, y_train)\n",
    "\n",
    "print('Tuned hyper parameters : ', rf_cv.best_params_)"
   ]
  },
  {
   "cell_type": "code",
   "execution_count": 25,
   "id": "ce43ff6a",
   "metadata": {
    "execution": {
     "iopub.execute_input": "2023-11-25T14:34:22.087742Z",
     "iopub.status.busy": "2023-11-25T14:34:22.086608Z",
     "iopub.status.idle": "2023-11-25T14:34:22.373439Z",
     "shell.execute_reply": "2023-11-25T14:34:22.372198Z"
    },
    "papermill": {
     "duration": 0.328138,
     "end_time": "2023-11-25T14:34:22.376314",
     "exception": false,
     "start_time": "2023-11-25T14:34:22.048176",
     "status": "completed"
    },
    "tags": []
   },
   "outputs": [],
   "source": [
    "# calculate time befor training the Random Forest model.\n",
    "t1 = datetime.now()\n",
    "# Model: initializes rf with best hyperparameters found during grid search & fits in to training data\n",
    "rf = RandomForestClassifier(**rf_cv.best_params_).fit(X_train, y_train)\n",
    "# calculate time after after training the Random Forest model.\n",
    "t2 = datetime.now()"
   ]
  },
  {
   "cell_type": "code",
   "execution_count": 26,
   "id": "fbc93bc4",
   "metadata": {
    "execution": {
     "iopub.execute_input": "2023-11-25T14:34:22.451016Z",
     "iopub.status.busy": "2023-11-25T14:34:22.450547Z",
     "iopub.status.idle": "2023-11-25T14:34:22.487581Z",
     "shell.execute_reply": "2023-11-25T14:34:22.486253Z"
    },
    "papermill": {
     "duration": 0.076659,
     "end_time": "2023-11-25T14:34:22.490216",
     "exception": false,
     "start_time": "2023-11-25T14:34:22.413557",
     "status": "completed"
    },
    "tags": []
   },
   "outputs": [
    {
     "name": "stdout",
     "output_type": "stream",
     "text": [
      "Training Score: 1.0\n",
      "Testing Score: 0.96\n",
      "Accuracy Score: 0.96\n",
      "RandomForestClassifier score :  0.96\n"
     ]
    }
   ],
   "source": [
    "#This line uses the trained Random Forest model to make predictions on the test data (X_test).\n",
    "y_pred_rf = rf.predict(X_test)\n",
    "\n",
    "\n",
    "#This line calculates and prints the accuracy score of the Random Forest model on the test data.\n",
    "\n",
    "rf_train_score = round(rf.score(X_train, y_train), 3)\n",
    "rf_test_score = round(rf.score(X_test, y_test), 3)\n",
    "\n",
    "print('Training Score:', rf_train_score)\n",
    "print('Testing Score:', rf_test_score)\n",
    "print('Accuracy Score:', rf_test_score)\n",
    "print('RandomForestClassifier score : ', rf_test_score)"
   ]
  },
  {
   "cell_type": "code",
   "execution_count": 27,
   "id": "57b47fd5",
   "metadata": {
    "execution": {
     "iopub.execute_input": "2023-11-25T14:34:22.563205Z",
     "iopub.status.busy": "2023-11-25T14:34:22.562756Z",
     "iopub.status.idle": "2023-11-25T14:34:22.569224Z",
     "shell.execute_reply": "2023-11-25T14:34:22.567952Z"
    },
    "papermill": {
     "duration": 0.046446,
     "end_time": "2023-11-25T14:34:22.571899",
     "exception": false,
     "start_time": "2023-11-25T14:34:22.525453",
     "status": "completed"
    },
    "tags": []
   },
   "outputs": [
    {
     "name": "stdout",
     "output_type": "stream",
     "text": [
      "RandomForestClassifier takes :  0.892 Seconds\n"
     ]
    }
   ],
   "source": [
    "#These lines calculate and print the time taken to train the Random Forest model.\n",
    "\n",
    "delta = t2-t1\n",
    "delta_rf = round(delta.total_seconds(), 3)\n",
    "print('RandomForestClassifier takes : ', delta_rf, 'Seconds')"
   ]
  },
  {
   "cell_type": "code",
   "execution_count": 28,
   "id": "b6ed7215",
   "metadata": {
    "execution": {
     "iopub.execute_input": "2023-11-25T14:34:22.645881Z",
     "iopub.status.busy": "2023-11-25T14:34:22.645424Z",
     "iopub.status.idle": "2023-11-25T14:34:23.007529Z",
     "shell.execute_reply": "2023-11-25T14:34:23.006149Z"
    },
    "papermill": {
     "duration": 0.402486,
     "end_time": "2023-11-25T14:34:23.010889",
     "exception": false,
     "start_time": "2023-11-25T14:34:22.608403",
     "status": "completed"
    },
    "tags": []
   },
   "outputs": [
    {
     "data": {
      "image/png": "[encoded data removed]",
      "text/plain": [
       "<Figure size 640x480 with 2 Axes>"
      ]
     },
     "metadata": {},
     "output_type": "display_data"
    }
   ],
   "source": [
    "#This line calls the previously defined function 'plot_confusion_matrix' \n",
    "#to visualize the confusion matrix for the Random Forest model.\n",
    "\n",
    "plot_confusion_matrix(y_test, y_pred_rf)"
   ]
  },
  {
   "cell_type": "code",
   "execution_count": 29,
   "id": "2c18f60d",
   "metadata": {
    "execution": {
     "iopub.execute_input": "2023-11-25T14:34:23.085622Z",
     "iopub.status.busy": "2023-11-25T14:34:23.085225Z",
     "iopub.status.idle": "2023-11-25T14:34:23.102723Z",
     "shell.execute_reply": "2023-11-25T14:34:23.101405Z"
    },
    "papermill": {
     "duration": 0.057036,
     "end_time": "2023-11-25T14:34:23.104914",
     "exception": false,
     "start_time": "2023-11-25T14:34:23.047878",
     "status": "completed"
    },
    "tags": []
   },
   "outputs": [
    {
     "name": "stdout",
     "output_type": "stream",
     "text": [
      "              precision    recall  f1-score   support\n",
      "\n",
      "           0       0.96      1.00      0.98      1179\n",
      "           1       0.00      0.00      0.00        49\n",
      "\n",
      "    accuracy                           0.96      1228\n",
      "   macro avg       0.48      0.50      0.49      1228\n",
      "weighted avg       0.92      0.96      0.94      1228\n",
      "\n"
     ]
    }
   ],
   "source": [
    "cr = metrics.classification_report(y_test, y_pred_rf)\n",
    "print(cr)"
   ]
  },
  {
   "cell_type": "markdown",
   "id": "78f25e94",
   "metadata": {
    "papermill": {
     "duration": 0.035659,
     "end_time": "2023-11-25T14:34:23.176912",
     "exception": false,
     "start_time": "2023-11-25T14:34:23.141253",
     "status": "completed"
    },
    "tags": []
   },
   "source": [
    "### LogisticRegression"
   ]
  },
  {
   "cell_type": "code",
   "execution_count": 31,
   "id": "c8d3ecff",
   "metadata": {
    "execution": {
     "iopub.execute_input": "2023-11-25T14:34:23.252314Z",
     "iopub.status.busy": "2023-11-25T14:34:23.251914Z",
     "iopub.status.idle": "2023-11-25T14:34:42.588459Z",
     "shell.execute_reply": "2023-11-25T14:34:42.587173Z"
    },
    "papermill": {
     "duration": 19.37701,
     "end_time": "2023-11-25T14:34:42.591167",
     "exception": false,
     "start_time": "2023-11-25T14:34:23.214157",
     "status": "completed"
    },
    "tags": []
   },
   "outputs": [
    {
     "name": "stdout",
     "output_type": "stream",
     "text": [
      "Tuned hyper parameters :  {'C': 10, 'class_weight': 'balanced', 'solver': 'saga'}\n"
     ]
    }
   ],
   "source": [
    "# a dictionary to define parameters to test in algorithm\n",
    "parameters = {\n",
    "    'C' : [0.001, 0.01, 0.1, 1.0, 10, 100, 1000], #Inverse of regularization strength.\n",
    "    'class_weight' : ['balanced'], #adjusting weights inversely proportional to class frequencies.\n",
    "    'solver' : ['lbfgs', 'liblinear', 'newton-cg', 'newton-cholesky', 'sag', 'saga'] #Algorithm to use in the optimization problem.\n",
    "}\n",
    "\n",
    "#This line initializes a Logistic Regression model (lr) with default hyperparameters.\n",
    "lr = LogisticRegression()\n",
    "lr_cv = GridSearchCV(estimator=lr, param_grid=parameters, cv=10).fit(X_train, y_train)\n",
    "\n",
    "\n",
    "#These lines print the best hyperparameters and the corresponding accuracy obtained during the grid search.\n",
    "print('Tuned hyper parameters : ', lr_cv.best_params_)"
   ]
  },
  {
   "cell_type": "code",
   "execution_count": 32,
   "id": "f1b60456",
   "metadata": {
    "execution": {
     "iopub.execute_input": "2023-11-25T14:34:42.664687Z",
     "iopub.status.busy": "2023-11-25T14:34:42.664288Z",
     "iopub.status.idle": "2023-11-25T14:34:42.759629Z",
     "shell.execute_reply": "2023-11-25T14:34:42.758123Z"
    },
    "papermill": {
     "duration": 0.135946,
     "end_time": "2023-11-25T14:34:42.762702",
     "exception": false,
     "start_time": "2023-11-25T14:34:42.626756",
     "status": "completed"
    },
    "tags": []
   },
   "outputs": [],
   "source": [
    "# Calculate time befor training the Logistic Regression model.\n",
    "t1 = datetime.now()\n",
    "# Model\n",
    "lr = LogisticRegression(**lr_cv.best_params_).fit(X_train, y_train)\n",
    "# Calculate time after training the Logistic Regression model.\n",
    "t2 = datetime.now()"
   ]
  },
  {
   "cell_type": "code",
   "execution_count": 35,
   "id": "40733e68",
   "metadata": {
    "execution": {
     "iopub.execute_input": "2023-11-25T14:34:42.835744Z",
     "iopub.status.busy": "2023-11-25T14:34:42.835348Z",
     "iopub.status.idle": "2023-11-25T14:34:42.852103Z",
     "shell.execute_reply": "2023-11-25T14:34:42.850137Z"
    },
    "papermill": {
     "duration": 0.057719,
     "end_time": "2023-11-25T14:34:42.856218",
     "exception": false,
     "start_time": "2023-11-25T14:34:42.798499",
     "status": "completed"
    },
    "tags": []
   },
   "outputs": [
    {
     "name": "stdout",
     "output_type": "stream",
     "text": [
      "Training Score: 0.847\n",
      "Testing Score: 0.84\n",
      "Accuracy Score: 0.84\n",
      "LogisticRegression score :  0.84\n"
     ]
    }
   ],
   "source": [
    "#This line uses the trained Logistic Regression model to make predictions on the test data \n",
    "y_pred_lr = lr.predict(X_test)\n",
    "\n",
    "\n",
    "#This line calculates and prints the accuracy score of the Logistic Regression model on the test data.\n",
    "lr_train_score = round(lr.score(X_train, y_train), 3)\n",
    "lr_test_score = round(lr.score(X_test, y_test), 3)\n",
    "\n",
    "print('Training Score:', lr_train_score)\n",
    "print('Testing Score:', lr_test_score)\n",
    "print('Accuracy Score:', lr_test_score)\n",
    "print('LogisticRegression score : ', lr_test_score)"
   ]
  },
  {
   "cell_type": "code",
   "execution_count": 36,
   "id": "a2d6d248",
   "metadata": {
    "execution": {
     "iopub.execute_input": "2023-11-25T14:34:42.986752Z",
     "iopub.status.busy": "2023-11-25T14:34:42.986371Z",
     "iopub.status.idle": "2023-11-25T14:34:42.992657Z",
     "shell.execute_reply": "2023-11-25T14:34:42.991368Z"
    },
    "papermill": {
     "duration": 0.064702,
     "end_time": "2023-11-25T14:34:42.995426",
     "exception": false,
     "start_time": "2023-11-25T14:34:42.930724",
     "status": "completed"
    },
    "tags": []
   },
   "outputs": [
    {
     "name": "stdout",
     "output_type": "stream",
     "text": [
      "LogisticRegression takes :  0.028 Seconds\n"
     ]
    }
   ],
   "source": [
    "#These lines calculate and print the time taken to train the Logistic Regression model.\n",
    "\n",
    "delta = t2-t1\n",
    "delta_lr = round(delta.total_seconds(), 3)\n",
    "print('LogisticRegression takes : ', delta_lr, 'Seconds')"
   ]
  },
  {
   "cell_type": "code",
   "execution_count": 37,
   "id": "161cf368",
   "metadata": {
    "execution": {
     "iopub.execute_input": "2023-11-25T14:34:43.072010Z",
     "iopub.status.busy": "2023-11-25T14:34:43.070688Z",
     "iopub.status.idle": "2023-11-25T14:34:43.447156Z",
     "shell.execute_reply": "2023-11-25T14:34:43.445975Z"
    },
    "papermill": {
     "duration": 0.418221,
     "end_time": "2023-11-25T14:34:43.450481",
     "exception": false,
     "start_time": "2023-11-25T14:34:43.032260",
     "status": "completed"
    },
    "tags": []
   },
   "outputs": [
    {
     "data": {
      "image/png": "[encoded data removed]",
      "text/plain": [
       "<Figure size 640x480 with 2 Axes>"
      ]
     },
     "metadata": {},
     "output_type": "display_data"
    }
   ],
   "source": [
    "#This line calls the previously defined function plot_confusion_matrix \n",
    "#to visualize the confusion matrix for the Logistic Regression model.\n",
    "\n",
    "plot_confusion_matrix(y_test, y_pred_lr)"
   ]
  },
  {
   "cell_type": "code",
   "execution_count": 38,
   "id": "556bcfce",
   "metadata": {
    "execution": {
     "iopub.execute_input": "2023-11-25T14:34:43.525286Z",
     "iopub.status.busy": "2023-11-25T14:34:43.524878Z",
     "iopub.status.idle": "2023-11-25T14:34:43.543797Z",
     "shell.execute_reply": "2023-11-25T14:34:43.541937Z"
    },
    "papermill": {
     "duration": 0.059521,
     "end_time": "2023-11-25T14:34:43.546336",
     "exception": false,
     "start_time": "2023-11-25T14:34:43.486815",
     "status": "completed"
    },
    "tags": []
   },
   "outputs": [
    {
     "name": "stdout",
     "output_type": "stream",
     "text": [
      "              precision    recall  f1-score   support\n",
      "\n",
      "           0       0.98      0.85      0.91      1179\n",
      "           1       0.15      0.63      0.24        49\n",
      "\n",
      "    accuracy                           0.84      1228\n",
      "   macro avg       0.56      0.74      0.57      1228\n",
      "weighted avg       0.95      0.84      0.88      1228\n",
      "\n"
     ]
    }
   ],
   "source": [
    "#These lines calculate and print the classification report, which includes precision, recall, f1-score, and support for each class in the test set.\n",
    "\n",
    "\n",
    "cr = metrics.classification_report(y_test, y_pred_lr)\n",
    "print(cr)"
   ]
  },
  {
   "cell_type": "markdown",
   "id": "a6b894e0",
   "metadata": {
    "jp-MarkdownHeadingCollapsed": true,
    "papermill": {
     "duration": 0.037399,
     "end_time": "2023-11-25T14:34:43.620080",
     "exception": false,
     "start_time": "2023-11-25T14:34:43.582681",
     "status": "completed"
    },
    "tags": []
   },
   "source": [
    "### SVC"
   ]
  },
  {
   "cell_type": "code",
   "execution_count": 39,
   "id": "a745a9f6",
   "metadata": {
    "execution": {
     "iopub.execute_input": "2023-11-25T14:34:43.697580Z",
     "iopub.status.busy": "2023-11-25T14:34:43.696209Z",
     "iopub.status.idle": "2023-11-25T14:37:38.129385Z",
     "shell.execute_reply": "2023-11-25T14:37:38.127914Z"
    },
    "papermill": {
     "duration": 174.5116,
     "end_time": "2023-11-25T14:37:38.169761",
     "exception": false,
     "start_time": "2023-11-25T14:34:43.658161",
     "status": "completed"
    },
    "tags": []
   },
   "outputs": [
    {
     "name": "stdout",
     "output_type": "stream",
     "text": [
      "Tuned hyper parameters :  {'C': 0.001, 'gamma': 0.001}\n"
     ]
    }
   ],
   "source": [
    "# a dictionary to define parameters to test in algorithm\n",
    "parameters = {\n",
    "    'C' : [0.001, 0.01, 0.1, 1.0, 10, 100, 1000],\n",
    "    'gamma' : [0.001, 0.01, 0.1, 1.0, 10, 100, 1000],\n",
    "}\n",
    "\n",
    "\n",
    "\n",
    "svc = SVC()\n",
    "svc_cv = GridSearchCV(estimator=svc, param_grid=parameters, cv=10).fit(X_train, y_train)\n",
    "\n",
    "\n",
    "\n",
    "print('Tuned hyper parameters : ', svc_cv.best_params_)"
   ]
  },
  {
   "cell_type": "code",
   "execution_count": 40,
   "id": "93fefc3c",
   "metadata": {
    "execution": {
     "iopub.execute_input": "2023-11-25T14:37:38.246521Z",
     "iopub.status.busy": "2023-11-25T14:37:38.246098Z",
     "iopub.status.idle": "2023-11-25T14:37:38.304939Z",
     "shell.execute_reply": "2023-11-25T14:37:38.303602Z"
    },
    "papermill": {
     "duration": 0.099721,
     "end_time": "2023-11-25T14:37:38.307763",
     "exception": false,
     "start_time": "2023-11-25T14:37:38.208042",
     "status": "completed"
    },
    "tags": []
   },
   "outputs": [],
   "source": [
    "# Calculate time befor run algorithm\n",
    "t1 = datetime.now()\n",
    "# Model\n",
    "svc = SVC(**svc_cv.best_params_).fit(X_train, y_train)\n",
    "# Calculate time after run algorithm\n",
    "t2 = datetime.now()"
   ]
  },
  {
   "cell_type": "code",
   "execution_count": 42,
   "id": "d1f2caa6",
   "metadata": {
    "execution": {
     "iopub.execute_input": "2023-11-25T14:37:38.384263Z",
     "iopub.status.busy": "2023-11-25T14:37:38.383853Z",
     "iopub.status.idle": "2023-11-25T14:37:38.443287Z",
     "shell.execute_reply": "2023-11-25T14:37:38.441854Z"
    },
    "papermill": {
     "duration": 0.101118,
     "end_time": "2023-11-25T14:37:38.446148",
     "exception": false,
     "start_time": "2023-11-25T14:37:38.345030",
     "status": "completed"
    },
    "tags": []
   },
   "outputs": [
    {
     "name": "stdout",
     "output_type": "stream",
     "text": [
      "Training Score: 0.957\n",
      "Testing Score: 0.96\n",
      "Accuracy Score: 0.96\n",
      "SVC Score :  0.96\n"
     ]
    }
   ],
   "source": [
    "y_pred_svc = svc.predict(X_test)\n",
    "\n",
    "svc_train_score = round(svc.score(X_train, y_train), 3)\n",
    "svc_test_score = round(svc.score(X_test, y_test), 3)\n",
    "\n",
    "print('Training Score:', svc_train_score)\n",
    "print('Testing Score:', svc_test_score)\n",
    "print('Accuracy Score:', svc_test_score)\n",
    "print('SVC Score : ', svc_test_score)"
   ]
  },
  {
   "cell_type": "code",
   "execution_count": 43,
   "id": "620db04d",
   "metadata": {
    "execution": {
     "iopub.execute_input": "2023-11-25T14:37:38.525638Z",
     "iopub.status.busy": "2023-11-25T14:37:38.525231Z",
     "iopub.status.idle": "2023-11-25T14:37:38.531624Z",
     "shell.execute_reply": "2023-11-25T14:37:38.530368Z"
    },
    "papermill": {
     "duration": 0.05097,
     "end_time": "2023-11-25T14:37:38.534191",
     "exception": false,
     "start_time": "2023-11-25T14:37:38.483221",
     "status": "completed"
    },
    "tags": []
   },
   "outputs": [
    {
     "name": "stdout",
     "output_type": "stream",
     "text": [
      "SVC :  0.017 Seconds\n"
     ]
    }
   ],
   "source": [
    "delta = t2-t1\n",
    "delta_svc = round(delta.total_seconds(), 3)\n",
    "print('SVC : ', delta_svc, 'Seconds')"
   ]
  },
  {
   "cell_type": "code",
   "execution_count": 44,
   "id": "2f071fd8",
   "metadata": {
    "execution": {
     "iopub.execute_input": "2023-11-25T14:37:38.616407Z",
     "iopub.status.busy": "2023-11-25T14:37:38.615953Z",
     "iopub.status.idle": "2023-11-25T14:37:38.978488Z",
     "shell.execute_reply": "2023-11-25T14:37:38.977480Z"
    },
    "papermill": {
     "duration": 0.409151,
     "end_time": "2023-11-25T14:37:38.980980",
     "exception": false,
     "start_time": "2023-11-25T14:37:38.571829",
     "status": "completed"
    },
    "tags": []
   },
   "outputs": [
    {
     "data": {
      "image/png": "[encoded data removed]",
      "text/plain": [
       "<Figure size 640x480 with 2 Axes>"
      ]
     },
     "metadata": {},
     "output_type": "display_data"
    }
   ],
   "source": [
    "plot_confusion_matrix(y_test, y_pred_svc)"
   ]
  },
  {
   "cell_type": "code",
   "execution_count": 45,
   "id": "2f541b2c",
   "metadata": {
    "execution": {
     "iopub.execute_input": "2023-11-25T14:37:39.063129Z",
     "iopub.status.busy": "2023-11-25T14:37:39.061961Z",
     "iopub.status.idle": "2023-11-25T14:37:39.078873Z",
     "shell.execute_reply": "2023-11-25T14:37:39.077507Z"
    },
    "papermill": {
     "duration": 0.058687,
     "end_time": "2023-11-25T14:37:39.081493",
     "exception": false,
     "start_time": "2023-11-25T14:37:39.022806",
     "status": "completed"
    },
    "tags": []
   },
   "outputs": [
    {
     "name": "stdout",
     "output_type": "stream",
     "text": [
      "              precision    recall  f1-score   support\n",
      "\n",
      "           0       0.96      1.00      0.98      1179\n",
      "           1       0.00      0.00      0.00        49\n",
      "\n",
      "    accuracy                           0.96      1228\n",
      "   macro avg       0.48      0.50      0.49      1228\n",
      "weighted avg       0.92      0.96      0.94      1228\n",
      "\n"
     ]
    }
   ],
   "source": [
    "cr = metrics.classification_report(y_test, y_pred_svc)\n",
    "print(cr)"
   ]
  },
  {
   "cell_type": "markdown",
   "id": "823aa9d8",
   "metadata": {
    "jp-MarkdownHeadingCollapsed": true,
    "papermill": {
     "duration": 0.037902,
     "end_time": "2023-11-25T14:37:39.157475",
     "exception": false,
     "start_time": "2023-11-25T14:37:39.119573",
     "status": "completed"
    },
    "tags": []
   },
   "source": [
    "### DecisionTreeClassifier"
   ]
  },
  {
   "cell_type": "code",
   "execution_count": 46,
   "id": "5cb8f932",
   "metadata": {
    "execution": {
     "iopub.execute_input": "2023-11-25T14:37:39.237709Z",
     "iopub.status.busy": "2023-11-25T14:37:39.236992Z",
     "iopub.status.idle": "2023-11-25T14:37:58.809617Z",
     "shell.execute_reply": "2023-11-25T14:37:58.808318Z"
    },
    "papermill": {
     "duration": 19.616162,
     "end_time": "2023-11-25T14:37:58.812518",
     "exception": false,
     "start_time": "2023-11-25T14:37:39.196356",
     "status": "completed"
    },
    "tags": []
   },
   "outputs": [
    {
     "name": "stdout",
     "output_type": "stream",
     "text": [
      "Tuned hyper parameters :  {'criterion': 'entropy', 'max_depth': 4, 'splitter': 'best'}\n"
     ]
    }
   ],
   "source": [
    "# a dictionary to define parameters to test in algorithm\n",
    "parameters = {\n",
    "    'criterion' : ['gini', 'entropy', 'log_loss'],\n",
    "    'splitter' : ['best', 'random'],\n",
    "    'max_depth' : list(np.arange(4, 30, 1))\n",
    "        }\n",
    "\n",
    "\n",
    "\n",
    "tree = DecisionTreeClassifier()\n",
    "tree_cv = GridSearchCV(estimator=tree, cv=10, param_grid=parameters).fit(X_train, y_train)\n",
    "\n",
    "\n",
    "\n",
    "print('Tuned hyper parameters : ', tree_cv.best_params_)"
   ]
  },
  {
   "cell_type": "code",
   "execution_count": 47,
   "id": "4fef6cdd",
   "metadata": {
    "execution": {
     "iopub.execute_input": "2023-11-25T14:37:58.891876Z",
     "iopub.status.busy": "2023-11-25T14:37:58.890685Z",
     "iopub.status.idle": "2023-11-25T14:37:58.901891Z",
     "shell.execute_reply": "2023-11-25T14:37:58.900985Z"
    },
    "papermill": {
     "duration": 0.053059,
     "end_time": "2023-11-25T14:37:58.904347",
     "exception": false,
     "start_time": "2023-11-25T14:37:58.851288",
     "status": "completed"
    },
    "tags": []
   },
   "outputs": [],
   "source": [
    "# Calculate time befor run algorithm :\n",
    "t1 = datetime.now()\n",
    "# Model :\n",
    "tree = DecisionTreeClassifier(**tree_cv.best_params_).fit(X_train, y_train)\n",
    "# Calculate time after run algorithm :\n",
    "t2 = datetime.now()"
   ]
  },
  {
   "cell_type": "code",
   "execution_count": 49,
   "id": "0af97168",
   "metadata": {
    "execution": {
     "iopub.execute_input": "2023-11-25T14:37:58.981947Z",
     "iopub.status.busy": "2023-11-25T14:37:58.981223Z",
     "iopub.status.idle": "2023-11-25T14:37:58.993670Z",
     "shell.execute_reply": "2023-11-25T14:37:58.992789Z"
    },
    "papermill": {
     "duration": 0.054599,
     "end_time": "2023-11-25T14:37:58.996262",
     "exception": false,
     "start_time": "2023-11-25T14:37:58.941663",
     "status": "completed"
    },
    "tags": []
   },
   "outputs": [
    {
     "name": "stdout",
     "output_type": "stream",
     "text": [
      "Training Score: 0.957\n",
      "Testing Score: 0.957\n",
      "Accuracy Score: 0.957\n",
      "DecisionTreeClassifier Score :  0.957\n"
     ]
    }
   ],
   "source": [
    "y_pred_tree = tree.predict(X_test)\n",
    "\n",
    "tree_train_score = round(tree.score(X_train, y_train), 3)\n",
    "tree_test_score = round(tree.score(X_test, y_test), 3)\n",
    "\n",
    "print('Training Score:', tree_train_score)\n",
    "print('Testing Score:', tree_test_score)\n",
    "print('Accuracy Score:', tree_test_score)\n",
    "print('DecisionTreeClassifier Score : ', tree_test_score)"
   ]
  },
  {
   "cell_type": "code",
   "execution_count": 50,
   "id": "2c5b61b4",
   "metadata": {
    "execution": {
     "iopub.execute_input": "2023-11-25T14:37:59.077243Z",
     "iopub.status.busy": "2023-11-25T14:37:59.076325Z",
     "iopub.status.idle": "2023-11-25T14:37:59.084017Z",
     "shell.execute_reply": "2023-11-25T14:37:59.082679Z"
    },
    "papermill": {
     "duration": 0.05037,
     "end_time": "2023-11-25T14:37:59.087006",
     "exception": false,
     "start_time": "2023-11-25T14:37:59.036636",
     "status": "completed"
    },
    "tags": []
   },
   "outputs": [
    {
     "name": "stdout",
     "output_type": "stream",
     "text": [
      "DecisionTreeClassifier takes :  0.004 Seconds\n"
     ]
    }
   ],
   "source": [
    "delta = t2-t1\n",
    "delta_tree = round(delta.total_seconds(), 3)\n",
    "print('DecisionTreeClassifier takes : ', delta_tree, 'Seconds')"
   ]
  },
  {
   "cell_type": "code",
   "execution_count": 51,
   "id": "4e031e2e",
   "metadata": {
    "execution": {
     "iopub.execute_input": "2023-11-25T14:37:59.166808Z",
     "iopub.status.busy": "2023-11-25T14:37:59.166350Z",
     "iopub.status.idle": "2023-11-25T14:37:59.531897Z",
     "shell.execute_reply": "2023-11-25T14:37:59.530892Z"
    },
    "papermill": {
     "duration": 0.408236,
     "end_time": "2023-11-25T14:37:59.534498",
     "exception": false,
     "start_time": "2023-11-25T14:37:59.126262",
     "status": "completed"
    },
    "tags": []
   },
   "outputs": [
    {
     "data": {
      "image/png": "[encoded data removed]",
      "text/plain": [
       "<Figure size 640x480 with 2 Axes>"
      ]
     },
     "metadata": {},
     "output_type": "display_data"
    }
   ],
   "source": [
    "plot_confusion_matrix(y_test, y_pred_tree)"
   ]
  },
  {
   "cell_type": "code",
   "execution_count": 52,
   "id": "f079c967",
   "metadata": {
    "execution": {
     "iopub.execute_input": "2023-11-25T14:37:59.617599Z",
     "iopub.status.busy": "2023-11-25T14:37:59.617148Z",
     "iopub.status.idle": "2023-11-25T14:37:59.636659Z",
     "shell.execute_reply": "2023-11-25T14:37:59.635264Z"
    },
    "papermill": {
     "duration": 0.065092,
     "end_time": "2023-11-25T14:37:59.639559",
     "exception": false,
     "start_time": "2023-11-25T14:37:59.574467",
     "status": "completed"
    },
    "tags": []
   },
   "outputs": [
    {
     "name": "stdout",
     "output_type": "stream",
     "text": [
      "              precision    recall  f1-score   support\n",
      "\n",
      "           0       0.96      1.00      0.98      1179\n",
      "           1       0.00      0.00      0.00        49\n",
      "\n",
      "    accuracy                           0.96      1228\n",
      "   macro avg       0.48      0.50      0.49      1228\n",
      "weighted avg       0.92      0.96      0.94      1228\n",
      "\n"
     ]
    }
   ],
   "source": [
    "cr = metrics.classification_report(y_test, y_pred_tree)\n",
    "print(cr)"
   ]
  },
  {
   "cell_type": "markdown",
   "id": "cfb35223",
   "metadata": {
    "jp-MarkdownHeadingCollapsed": true,
    "papermill": {
     "duration": 0.038582,
     "end_time": "2023-11-25T14:37:59.718258",
     "exception": false,
     "start_time": "2023-11-25T14:37:59.679676",
     "status": "completed"
    },
    "tags": []
   },
   "source": [
    "### KNeighborsClassifier"
   ]
  },
  {
   "cell_type": "code",
   "execution_count": 53,
   "id": "e8e7234f",
   "metadata": {
    "execution": {
     "iopub.execute_input": "2023-11-25T14:37:59.799075Z",
     "iopub.status.busy": "2023-11-25T14:37:59.798479Z",
     "iopub.status.idle": "2023-11-25T14:38:33.707974Z",
     "shell.execute_reply": "2023-11-25T14:38:33.706881Z"
    },
    "papermill": {
     "duration": 33.991445,
     "end_time": "2023-11-25T14:38:33.748908",
     "exception": false,
     "start_time": "2023-11-25T14:37:59.757463",
     "status": "completed"
    },
    "tags": []
   },
   "outputs": [
    {
     "name": "stdout",
     "output_type": "stream",
     "text": [
      "Tuned hyper parameters :  {'n_neighbors': 11, 'p': 1}\n",
      "accuracy :  0.9565335218569577\n"
     ]
    }
   ],
   "source": [
    "# a dictionary to define parameters to test in algorithm\n",
    "parameters = {\n",
    "    'n_neighbors' : list(np.arange(3, 20, 2)),\n",
    "    'p' : [1, 2, 3, 4]\n",
    "}\n",
    "\n",
    "# calculate time to run in second\n",
    "t1 = datetime.now()\n",
    "\n",
    "knn = KNeighborsClassifier()\n",
    "knn_cv = GridSearchCV(estimator=knn, cv=10, param_grid=parameters).fit(X_train, y_train)\n",
    "\n",
    "t2 = datetime.now()\n",
    "\n",
    "print('Tuned hyper parameters : ', knn_cv.best_params_)\n",
    "print('accuracy : ', knn_cv.best_score_)"
   ]
  },
  {
   "cell_type": "code",
   "execution_count": 54,
   "id": "c9130eb7",
   "metadata": {
    "execution": {
     "iopub.execute_input": "2023-11-25T14:38:33.830907Z",
     "iopub.status.busy": "2023-11-25T14:38:33.830172Z",
     "iopub.status.idle": "2023-11-25T14:38:33.841584Z",
     "shell.execute_reply": "2023-11-25T14:38:33.840493Z"
    },
    "papermill": {
     "duration": 0.056298,
     "end_time": "2023-11-25T14:38:33.844385",
     "exception": false,
     "start_time": "2023-11-25T14:38:33.788087",
     "status": "completed"
    },
    "tags": []
   },
   "outputs": [],
   "source": [
    "# Calculate time befor run algorithm :\n",
    "t1 = datetime.now()\n",
    "# Model :\n",
    "knn = KNeighborsClassifier(**knn_cv.best_params_).fit(X_train, y_train)\n",
    "# Calculate time after run algorithm :\n",
    "t2 = datetime.now()"
   ]
  },
  {
   "cell_type": "code",
   "execution_count": 55,
   "id": "771dddb0",
   "metadata": {
    "execution": {
     "iopub.execute_input": "2023-11-25T14:38:33.925639Z",
     "iopub.status.busy": "2023-11-25T14:38:33.924906Z",
     "iopub.status.idle": "2023-11-25T14:38:34.228892Z",
     "shell.execute_reply": "2023-11-25T14:38:34.227354Z"
    },
    "papermill": {
     "duration": 0.348246,
     "end_time": "2023-11-25T14:38:34.232189",
     "exception": false,
     "start_time": "2023-11-25T14:38:33.883943",
     "status": "completed"
    },
    "tags": []
   },
   "outputs": [
    {
     "name": "stdout",
     "output_type": "stream",
     "text": [
      "Training Score: 0.957\n",
      "Testing Score: 0.959\n",
      "Accuracy Score: 0.959\n",
      "KNeighborsClassifier Score : 0.959\n"
     ]
    }
   ],
   "source": [
    "y_pred_knn = knn_cv.predict(X_test)\n",
    "\n",
    "knn_train_score = round(knn.score(X_train, y_train), 3)\n",
    "knn_test_score = round(knn.score(X_test, y_test), 3)\n",
    "\n",
    "print('Training Score:', knn_train_score)\n",
    "print('Testing Score:', knn_test_score)\n",
    "print('Accuracy Score:', knn_test_score)\n",
    "print('KNeighborsClassifier Score :', knn_test_score)"
   ]
  },
  {
   "cell_type": "code",
   "execution_count": 56,
   "id": "36b445f7",
   "metadata": {
    "execution": {
     "iopub.execute_input": "2023-11-25T14:38:34.312648Z",
     "iopub.status.busy": "2023-11-25T14:38:34.312204Z",
     "iopub.status.idle": "2023-11-25T14:38:34.318855Z",
     "shell.execute_reply": "2023-11-25T14:38:34.317677Z"
    },
    "papermill": {
     "duration": 0.05051,
     "end_time": "2023-11-25T14:38:34.321454",
     "exception": false,
     "start_time": "2023-11-25T14:38:34.270944",
     "status": "completed"
    },
    "tags": []
   },
   "outputs": [
    {
     "name": "stdout",
     "output_type": "stream",
     "text": [
      "KNeighborsClassifier takes :  0.002 Seconds\n"
     ]
    }
   ],
   "source": [
    "delta = t2-t1\n",
    "delta_knn = round(delta.total_seconds(), 3)\n",
    "print('KNeighborsClassifier takes : ', delta_knn, 'Seconds')"
   ]
  },
  {
   "cell_type": "code",
   "execution_count": 57,
   "id": "670f8889",
   "metadata": {
    "execution": {
     "iopub.execute_input": "2023-11-25T14:38:34.401487Z",
     "iopub.status.busy": "2023-11-25T14:38:34.400356Z",
     "iopub.status.idle": "2023-11-25T14:38:34.780979Z",
     "shell.execute_reply": "2023-11-25T14:38:34.779569Z"
    },
    "papermill": {
     "duration": 0.424298,
     "end_time": "2023-11-25T14:38:34.784257",
     "exception": false,
     "start_time": "2023-11-25T14:38:34.359959",
     "status": "completed"
    },
    "tags": []
   },
   "outputs": [
    {
     "data": {
      "image/png": "[encoded data removed]",
      "text/plain": [
       "<Figure size 640x480 with 2 Axes>"
      ]
     },
     "metadata": {},
     "output_type": "display_data"
    }
   ],
   "source": [
    "plot_confusion_matrix(y_test, y_pred_knn)"
   ]
  },
  {
   "cell_type": "code",
   "execution_count": 58,
   "id": "d63b2e33",
   "metadata": {
    "execution": {
     "iopub.execute_input": "2023-11-25T14:38:34.870328Z",
     "iopub.status.busy": "2023-11-25T14:38:34.869214Z",
     "iopub.status.idle": "2023-11-25T14:38:34.886504Z",
     "shell.execute_reply": "2023-11-25T14:38:34.885521Z"
    },
    "papermill": {
     "duration": 0.060747,
     "end_time": "2023-11-25T14:38:34.888924",
     "exception": false,
     "start_time": "2023-11-25T14:38:34.828177",
     "status": "completed"
    },
    "tags": []
   },
   "outputs": [
    {
     "name": "stdout",
     "output_type": "stream",
     "text": [
      "              precision    recall  f1-score   support\n",
      "\n",
      "           0       0.96      1.00      0.98      1179\n",
      "           1       0.00      0.00      0.00        49\n",
      "\n",
      "    accuracy                           0.96      1228\n",
      "   macro avg       0.48      0.50      0.49      1228\n",
      "weighted avg       0.92      0.96      0.94      1228\n",
      "\n"
     ]
    }
   ],
   "source": [
    "cr = metrics.classification_report(y_test, y_pred_knn)\n",
    "print(cr)"
   ]
  },
  {
   "cell_type": "markdown",
   "id": "515850d2",
   "metadata": {
    "papermill": {
     "duration": 0.039575,
     "end_time": "2023-11-25T14:38:34.968343",
     "exception": false,
     "start_time": "2023-11-25T14:38:34.928768",
     "status": "completed"
    },
    "tags": []
   },
   "source": [
    "## Result"
   ]
  },
  {
   "cell_type": "code",
   "execution_count": 60,
   "id": "0c270706",
   "metadata": {
    "execution": {
     "iopub.execute_input": "2023-11-25T14:38:35.054109Z",
     "iopub.status.busy": "2023-11-25T14:38:35.053155Z",
     "iopub.status.idle": "2023-11-25T14:38:35.067986Z",
     "shell.execute_reply": "2023-11-25T14:38:35.067053Z"
    },
    "papermill": {
     "duration": 0.059188,
     "end_time": "2023-11-25T14:38:35.070520",
     "exception": false,
     "start_time": "2023-11-25T14:38:35.011332",
     "status": "completed"
    },
    "tags": []
   },
   "outputs": [
    {
     "data": {
      "text/html": [
       "<div>\n",
       "<style scoped>\n",
       "    .dataframe tbody tr th:only-of-type {\n",
       "        vertical-align: middle;\n",
       "    }\n",
       "\n",
       "    .dataframe tbody tr th {\n",
       "        vertical-align: top;\n",
       "    }\n",
       "\n",
       "    .dataframe thead th {\n",
       "        text-align: right;\n",
       "    }\n",
       "</style>\n",
       "<table border=\"1\" class=\"dataframe\">\n",
       "  <thead>\n",
       "    <tr style=\"text-align: right;\">\n",
       "      <th></th>\n",
       "      <th>Algorithm</th>\n",
       "      <th>Score</th>\n",
       "      <th>Delta_t</th>\n",
       "    </tr>\n",
       "  </thead>\n",
       "  <tbody>\n",
       "    <tr>\n",
       "      <th>0</th>\n",
       "      <td>RandomForestClassifier</td>\n",
       "      <td>0.960</td>\n",
       "      <td>0.892</td>\n",
       "    </tr>\n",
       "    <tr>\n",
       "      <th>1</th>\n",
       "      <td>LogisticRegression</td>\n",
       "      <td>0.840</td>\n",
       "      <td>0.028</td>\n",
       "    </tr>\n",
       "    <tr>\n",
       "      <th>2</th>\n",
       "      <td>SVC</td>\n",
       "      <td>0.960</td>\n",
       "      <td>0.017</td>\n",
       "    </tr>\n",
       "    <tr>\n",
       "      <th>3</th>\n",
       "      <td>DecisionTreeClassifier</td>\n",
       "      <td>0.957</td>\n",
       "      <td>0.004</td>\n",
       "    </tr>\n",
       "    <tr>\n",
       "      <th>4</th>\n",
       "      <td>KNeighborsClassifier</td>\n",
       "      <td>0.959</td>\n",
       "      <td>0.002</td>\n",
       "    </tr>\n",
       "  </tbody>\n",
       "</table>\n",
       "</div>"
      ],
      "text/plain": [
       "                Algorithm  Score  Delta_t\n",
       "0  RandomForestClassifier  0.960    0.892\n",
       "1      LogisticRegression  0.840    0.028\n",
       "2                     SVC  0.960    0.017\n",
       "3  DecisionTreeClassifier  0.957    0.004\n",
       "4    KNeighborsClassifier  0.959    0.002"
      ]
     },
     "execution_count": 60,
     "metadata": {},
     "output_type": "execute_result"
    }
   ],
   "source": [
    "result = pd.DataFrame({\n",
    "    'Algorithm' : ['RandomForestClassifier', 'LogisticRegression', 'SVC', 'DecisionTreeClassifier', 'KNeighborsClassifier'],\n",
    "    'Score' : [rf_test_score, lr_test_score, svc_test_score, tree_test_score, knn_test_score], #accuracy scores for each algorithm\n",
    "    'Delta_t' : [delta_rf, delta_lr, delta_svc, delta_tree, delta_knn] #contains the time taken (in seconds) for each algorithm.\n",
    "})\n",
    "\n",
    "result"
   ]
  },
  {
   "cell_type": "code",
   "execution_count": 61,
   "id": "cc2e523a",
   "metadata": {
    "execution": {
     "iopub.execute_input": "2023-11-25T14:38:35.153080Z",
     "iopub.status.busy": "2023-11-25T14:38:35.152321Z",
     "iopub.status.idle": "2023-11-25T14:38:35.777352Z",
     "shell.execute_reply": "2023-11-25T14:38:35.775852Z"
    },
    "papermill": {
     "duration": 0.669516,
     "end_time": "2023-11-25T14:38:35.780106",
     "exception": false,
     "start_time": "2023-11-25T14:38:35.110590",
     "status": "completed"
    },
    "tags": []
   },
   "outputs": [
    {
     "data": {
      "image/png": "[encoded data removed]",
      "text/plain": [
       "<Figure size 1500x500 with 2 Axes>"
      ]
     },
     "metadata": {},
     "output_type": "display_data"
    }
   ],
   "source": [
    "fig, ax = plt.subplots(1, 2, figsize=(15, 5))\n",
    "\n",
    "sns.barplot(x='Algorithm', y='Score', data=result, ax=ax[0])\n",
    "ax[0].bar_label(ax[0].containers[0], fmt='%.3f')\n",
    "ax[0].set_xticklabels(labels=result.Algorithm, rotation=300)\n",
    "\n",
    "sns.barplot(x='Algorithm', y='Delta_t', data=result, ax=ax[1])\n",
    "ax[1].bar_label(ax[1].containers[0], fmt='%.3f')\n",
    "ax[1].set_xticklabels(labels=result.Algorithm, rotation=300)\n",
    "plt.show()"
   ]
  },
  {
   "cell_type": "markdown",
   "id": "b79864f1",
   "metadata": {
    "papermill": {
     "duration": 0.042321,
     "end_time": "2023-11-25T14:38:35.863528",
     "exception": false,
     "start_time": "2023-11-25T14:38:35.821207",
     "status": "completed"
    },
    "tags": []
   },
   "source": [
    "### According to the above plots, best algorithms base on Score are :\n",
    "\n",
    "1. RandomForestClassifier\n",
    "2. SVC\n",
    "3. DecisionTreeClassifier\n",
    "4. KNeighborsClassifier\n",
    "\n",
    "### And best Algorithm base on runtime, are :\n",
    "\n",
    "- DecisionTreeClassifie\n",
    "- KNeighborsClassifier\n",
    "\n",
    "\n",
    "###  ~ We choose  KNeighborsClassifier "
   ]
  },
  {
   "cell_type": "markdown",
   "id": "6bcfd9f2",
   "metadata": {
    "papermill": {
     "duration": 0.040974,
     "end_time": "2023-11-25T14:38:35.945874",
     "exception": false,
     "start_time": "2023-11-25T14:38:35.904900",
     "status": "completed"
    },
    "tags": []
   },
   "source": [
    "### Final Modeling"
   ]
  },
  {
   "cell_type": "code",
   "execution_count": 62,
   "id": "38ec2a59",
   "metadata": {
    "execution": {
     "iopub.execute_input": "2023-11-25T14:38:36.036856Z",
     "iopub.status.busy": "2023-11-25T14:38:36.036369Z",
     "iopub.status.idle": "2023-11-25T14:38:36.055756Z",
     "shell.execute_reply": "2023-11-25T14:38:36.054564Z"
    },
    "papermill": {
     "duration": 0.069752,
     "end_time": "2023-11-25T14:38:36.058329",
     "exception": false,
     "start_time": "2023-11-25T14:38:35.988577",
     "status": "completed"
    },
    "tags": []
   },
   "outputs": [
    {
     "data": {
      "text/html": [
       "<style>#sk-container-id-1 {color: black;}#sk-container-id-1 pre{padding: 0;}#sk-container-id-1 div.sk-toggleable {background-color: white;}#sk-container-id-1 label.sk-toggleable__label {cursor: pointer;display: block;width: 100%;margin-bottom: 0;padding: 0.3em;box-sizing: border-box;text-align: center;}#sk-container-id-1 label.sk-toggleable__label-arrow:before {content: \"▸\";float: left;margin-right: 0.25em;color: #696969;}#sk-container-id-1 label.sk-toggleable__label-arrow:hover:before {color: black;}#sk-container-id-1 div.sk-estimator:hover label.sk-toggleable__label-arrow:before {color: black;}#sk-container-id-1 div.sk-toggleable__content {max-height: 0;max-width: 0;overflow: hidden;text-align: left;background-color: #f0f8ff;}#sk-container-id-1 div.sk-toggleable__content pre {margin: 0.2em;color: black;border-radius: 0.25em;background-color: #f0f8ff;}#sk-container-id-1 input.sk-toggleable__control:checked~div.sk-toggleable__content {max-height: 200px;max-width: 100%;overflow: auto;}#sk-container-id-1 input.sk-toggleable__control:checked~label.sk-toggleable__label-arrow:before {content: \"▾\";}#sk-container-id-1 div.sk-estimator input.sk-toggleable__control:checked~label.sk-toggleable__label {background-color: #d4ebff;}#sk-container-id-1 div.sk-label input.sk-toggleable__control:checked~label.sk-toggleable__label {background-color: #d4ebff;}#sk-container-id-1 input.sk-hidden--visually {border: 0;clip: rect(1px 1px 1px 1px);clip: rect(1px, 1px, 1px, 1px);height: 1px;margin: -1px;overflow: hidden;padding: 0;position: absolute;width: 1px;}#sk-container-id-1 div.sk-estimator {font-family: monospace;background-color: #f0f8ff;border: 1px dotted black;border-radius: 0.25em;box-sizing: border-box;margin-bottom: 0.5em;}#sk-container-id-1 div.sk-estimator:hover {background-color: #d4ebff;}#sk-container-id-1 div.sk-parallel-item::after {content: \"\";width: 100%;border-bottom: 1px solid gray;flex-grow: 1;}#sk-container-id-1 div.sk-label:hover label.sk-toggleable__label {background-color: #d4ebff;}#sk-container-id-1 div.sk-serial::before {content: \"\";position: absolute;border-left: 1px solid gray;box-sizing: border-box;top: 0;bottom: 0;left: 50%;z-index: 0;}#sk-container-id-1 div.sk-serial {display: flex;flex-direction: column;align-items: center;background-color: white;padding-right: 0.2em;padding-left: 0.2em;position: relative;}#sk-container-id-1 div.sk-item {position: relative;z-index: 1;}#sk-container-id-1 div.sk-parallel {display: flex;align-items: stretch;justify-content: center;background-color: white;position: relative;}#sk-container-id-1 div.sk-item::before, #sk-container-id-1 div.sk-parallel-item::before {content: \"\";position: absolute;border-left: 1px solid gray;box-sizing: border-box;top: 0;bottom: 0;left: 50%;z-index: -1;}#sk-container-id-1 div.sk-parallel-item {display: flex;flex-direction: column;z-index: 1;position: relative;background-color: white;}#sk-container-id-1 div.sk-parallel-item:first-child::after {align-self: flex-end;width: 50%;}#sk-container-id-1 div.sk-parallel-item:last-child::after {align-self: flex-start;width: 50%;}#sk-container-id-1 div.sk-parallel-item:only-child::after {width: 0;}#sk-container-id-1 div.sk-dashed-wrapped {border: 1px dashed gray;margin: 0 0.4em 0.5em 0.4em;box-sizing: border-box;padding-bottom: 0.4em;background-color: white;}#sk-container-id-1 div.sk-label label {font-family: monospace;font-weight: bold;display: inline-block;line-height: 1.2em;}#sk-container-id-1 div.sk-label-container {text-align: center;}#sk-container-id-1 div.sk-container {/* jupyter's `normalize.less` sets `[hidden] { display: none; }` but bootstrap.min.css set `[hidden] { display: none !important; }` so we also need the `!important` here to be able to override the default hidden behavior on the sphinx rendered scikit-learn.org. See: https://github.com/scikit-learn/scikit-learn/issues/21755 */display: inline-block !important;position: relative;}#sk-container-id-1 div.sk-text-repr-fallback {display: none;}</style><div id=\"sk-container-id-1\" class=\"sk-top-container\"><div class=\"sk-text-repr-fallback\"><pre>KNeighborsClassifier(n_neighbors=11, p=1)</pre><b>In a Jupyter environment, please rerun this cell to show the HTML representation or trust the notebook. <br />On GitHub, the HTML representation is unable to render, please try loading this page with nbviewer.org.</b></div><div class=\"sk-container\" hidden><div class=\"sk-item\"><div class=\"sk-estimator sk-toggleable\"><input class=\"sk-toggleable__control sk-hidden--visually\" id=\"sk-estimator-id-1\" type=\"checkbox\" checked><label for=\"sk-estimator-id-1\" class=\"sk-toggleable__label sk-toggleable__label-arrow\">KNeighborsClassifier</label><div class=\"sk-toggleable__content\"><pre>KNeighborsClassifier(n_neighbors=11, p=1)</pre></div></div></div></div></div>"
      ],
      "text/plain": [
       "KNeighborsClassifier(n_neighbors=11, p=1)"
      ]
     },
     "execution_count": 62,
     "metadata": {},
     "output_type": "execute_result"
    }
   ],
   "source": [
    "knn = KNeighborsClassifier(**knn_cv.best_params_).fit(X, y)\n",
    "knn"
   ]
  },
  {
   "cell_type": "code",
   "execution_count": 63,
   "id": "a5307045",
   "metadata": {
    "execution": {
     "iopub.execute_input": "2023-11-25T14:38:36.147686Z",
     "iopub.status.busy": "2023-11-25T14:38:36.146063Z",
     "iopub.status.idle": "2023-11-25T14:38:36.797746Z",
     "shell.execute_reply": "2023-11-25T14:38:36.796572Z"
    },
    "papermill": {
     "duration": 0.700131,
     "end_time": "2023-11-25T14:38:36.800657",
     "exception": false,
     "start_time": "2023-11-25T14:38:36.100526",
     "status": "completed"
    },
    "tags": []
   },
   "outputs": [
    {
     "data": {
      "text/plain": [
       "0.9576288449786107"
      ]
     },
     "execution_count": 63,
     "metadata": {},
     "output_type": "execute_result"
    }
   ],
   "source": [
    "# returns the accuracy score of the K-Nearest Neighbors classifier on the entire dataset\n",
    "# The score method compares the predicted labels with the actual labels (y) and computes the accuracy.\n",
    "knn.score(X, y)"
   ]
  },
  {
   "cell_type": "code",
   "execution_count": null,
   "id": "34220bee",
   "metadata": {},
   "outputs": [],
   "source": []
  }
 ],
 "metadata": {
  "kaggle": {
   "accelerator": "none",
   "dataSources": [
    {
     "datasetId": 1120859,
     "sourceId": 1882037,
     "sourceType": "datasetVersion"
    }
   ],
   "dockerImageVersionId": 30587,
   "isGpuEnabled": false,
   "isInternetEnabled": true,
   "language": "python",
   "sourceType": "notebook"
  },
  "kernelspec": {
   "display_name": "Python 3 (ipykernel)",
   "language": "python",
   "name": "python3"
  },
  "language_info": {
   "codemirror_mode": {
    "name": "ipython",
    "version": 3
   },
   "file_extension": ".py",
   "mimetype": "text/x-python",
   "name": "python",
   "nbconvert_exporter": "python",
   "pygments_lexer": "ipython3",
   "version": "3.11.4"
  },
  "papermill": {
   "default_parameters": {},
   "duration": 535.946232,
   "end_time": "2023-11-25T14:38:37.836250",
   "environment_variables": {},
   "exception": null,
   "input_path": "__notebook__.ipynb",
   "output_path": "__notebook__.ipynb",
   "parameters": {},
   "start_time": "2023-11-25T14:29:41.890018",
   "version": "2.4.0"
  }
 },
 "nbformat": 4,
 "nbformat_minor": 5
}
